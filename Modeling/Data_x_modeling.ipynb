{
 "cells": [
  {
   "cell_type": "markdown",
   "metadata": {},
   "source": [
    "# Dataframe modification "
   ]
  },
  {
   "cell_type": "code",
   "execution_count": 5,
   "metadata": {},
   "outputs": [
    {
     "output_type": "execute_result",
     "data": {
      "text/plain": "         Q1                Q4                       Q5              Q10  \\\n0     22-24  Bachelors degree           Data Scientist    80,000-89,999   \n1     22-24  Bachelors degree                  Student            0-999   \n2     30-34    Masters degree  Product/Project Manager    90,000-99,999   \n3     50-54    Masters degree             Data Analyst  125,000-149,999   \n4     35-39  Bachelors degree                    Other  125,000-149,999   \n...     ...               ...                      ...              ...   \n3449  25-29    Masters degree                  Student            0-999   \n3450  18-21    Masters degree                  Student            0-999   \n3451  25-29    Masters degree                  Student            0-999   \n3452  22-24    Masters degree       Research Scientist    10,000-14,999   \n3453  25-29  Bachelors degree                    Other  100,000-124,999   \n\n                                         Q16_Part_1 Q16_Part_2 Q16_Part_3  \\\n0     Jupyter (JupyterLab, Jupyter Notebooks, etc)           0          0   \n1     Jupyter (JupyterLab, Jupyter Notebooks, etc)           0   PyCharm    \n2     Jupyter (JupyterLab, Jupyter Notebooks, etc)           0   PyCharm    \n3     Jupyter (JupyterLab, Jupyter Notebooks, etc)    RStudio           0   \n4     Jupyter (JupyterLab, Jupyter Notebooks, etc)           0          0   \n...                                             ...        ...        ...   \n3449                                              0          0          0   \n3450                                              0          0          0   \n3451                                              0          0          0   \n3452                                              0          0          0   \n3453                                              0          0          0   \n\n     Q16_Part_4 Q16_Part_5                            Q16_Part_6  ...  \\\n0             0          0                                     0  ...   \n1         Atom           0                                     0  ...   \n2         Atom           0                                     0  ...   \n3             0          0   Visual Studio / Visual Studio Code   ...   \n4             0          0                                     0  ...   \n...         ...        ...                                   ...  ...   \n3449          0          0                                     0  ...   \n3450          0          0                                     0  ...   \n3451          0          0                                     0  ...   \n3452          0          0                                     0  ...   \n3453          0          0                                     0  ...   \n\n           Q28_Part_1     Q28_Part_2 Q28_Part_3     Q28_Part_4 Q28_Part_5  \\\n0       Scikit-learn     TensorFlow      Keras               0          0   \n1       Scikit-learn               0          0              0   Xgboost    \n2       Scikit-learn               0          0   RandomForest          0   \n3       Scikit-learn               0          0              0          0   \n4       Scikit-learn     TensorFlow      Keras               0          0   \n...               ...            ...        ...            ...        ...   \n3449                0              0          0              0          0   \n3450                0              0          0              0          0   \n3451                0              0          0              0          0   \n3452                0              0          0              0          0   \n3453                0              0          0              0          0   \n\n     Q28_Part_6 Q28_Part_7  Q28_Part_8    Q28_Part_9 Q28_Part_10  \n0             0          0           0   Spark MLib            0  \n1      PyTorch           0   LightGBM              0           0  \n2             0          0           0             0           0  \n3             0          0           0             0           0  \n4             0          0           0             0           0  \n...         ...        ...         ...           ...         ...  \n3449          0          0           0             0           0  \n3450          0          0           0             0           0  \n3451          0          0           0             0           0  \n3452          0          0           0             0           0  \n3453          0          0           0             0           0  \n\n[3454 rows x 45 columns]",
      "text/html": "<div>\n<style scoped>\n    .dataframe tbody tr th:only-of-type {\n        vertical-align: middle;\n    }\n\n    .dataframe tbody tr th {\n        vertical-align: top;\n    }\n\n    .dataframe thead th {\n        text-align: right;\n    }\n</style>\n<table border=\"1\" class=\"dataframe\">\n  <thead>\n    <tr style=\"text-align: right;\">\n      <th></th>\n      <th>Q1</th>\n      <th>Q4</th>\n      <th>Q5</th>\n      <th>Q10</th>\n      <th>Q16_Part_1</th>\n      <th>Q16_Part_2</th>\n      <th>Q16_Part_3</th>\n      <th>Q16_Part_4</th>\n      <th>Q16_Part_5</th>\n      <th>Q16_Part_6</th>\n      <th>...</th>\n      <th>Q28_Part_1</th>\n      <th>Q28_Part_2</th>\n      <th>Q28_Part_3</th>\n      <th>Q28_Part_4</th>\n      <th>Q28_Part_5</th>\n      <th>Q28_Part_6</th>\n      <th>Q28_Part_7</th>\n      <th>Q28_Part_8</th>\n      <th>Q28_Part_9</th>\n      <th>Q28_Part_10</th>\n    </tr>\n  </thead>\n  <tbody>\n    <tr>\n      <th>0</th>\n      <td>22-24</td>\n      <td>Bachelors degree</td>\n      <td>Data Scientist</td>\n      <td>80,000-89,999</td>\n      <td>Jupyter (JupyterLab, Jupyter Notebooks, etc)</td>\n      <td>0</td>\n      <td>0</td>\n      <td>0</td>\n      <td>0</td>\n      <td>0</td>\n      <td>...</td>\n      <td>Scikit-learn</td>\n      <td>TensorFlow</td>\n      <td>Keras</td>\n      <td>0</td>\n      <td>0</td>\n      <td>0</td>\n      <td>0</td>\n      <td>0</td>\n      <td>Spark MLib</td>\n      <td>0</td>\n    </tr>\n    <tr>\n      <th>1</th>\n      <td>22-24</td>\n      <td>Bachelors degree</td>\n      <td>Student</td>\n      <td>0-999</td>\n      <td>Jupyter (JupyterLab, Jupyter Notebooks, etc)</td>\n      <td>0</td>\n      <td>PyCharm</td>\n      <td>Atom</td>\n      <td>0</td>\n      <td>0</td>\n      <td>...</td>\n      <td>Scikit-learn</td>\n      <td>0</td>\n      <td>0</td>\n      <td>0</td>\n      <td>Xgboost</td>\n      <td>PyTorch</td>\n      <td>0</td>\n      <td>LightGBM</td>\n      <td>0</td>\n      <td>0</td>\n    </tr>\n    <tr>\n      <th>2</th>\n      <td>30-34</td>\n      <td>Masters degree</td>\n      <td>Product/Project Manager</td>\n      <td>90,000-99,999</td>\n      <td>Jupyter (JupyterLab, Jupyter Notebooks, etc)</td>\n      <td>0</td>\n      <td>PyCharm</td>\n      <td>Atom</td>\n      <td>0</td>\n      <td>0</td>\n      <td>...</td>\n      <td>Scikit-learn</td>\n      <td>0</td>\n      <td>0</td>\n      <td>RandomForest</td>\n      <td>0</td>\n      <td>0</td>\n      <td>0</td>\n      <td>0</td>\n      <td>0</td>\n      <td>0</td>\n    </tr>\n    <tr>\n      <th>3</th>\n      <td>50-54</td>\n      <td>Masters degree</td>\n      <td>Data Analyst</td>\n      <td>125,000-149,999</td>\n      <td>Jupyter (JupyterLab, Jupyter Notebooks, etc)</td>\n      <td>RStudio</td>\n      <td>0</td>\n      <td>0</td>\n      <td>0</td>\n      <td>Visual Studio / Visual Studio Code</td>\n      <td>...</td>\n      <td>Scikit-learn</td>\n      <td>0</td>\n      <td>0</td>\n      <td>0</td>\n      <td>0</td>\n      <td>0</td>\n      <td>0</td>\n      <td>0</td>\n      <td>0</td>\n      <td>0</td>\n    </tr>\n    <tr>\n      <th>4</th>\n      <td>35-39</td>\n      <td>Bachelors degree</td>\n      <td>Other</td>\n      <td>125,000-149,999</td>\n      <td>Jupyter (JupyterLab, Jupyter Notebooks, etc)</td>\n      <td>0</td>\n      <td>0</td>\n      <td>0</td>\n      <td>0</td>\n      <td>0</td>\n      <td>...</td>\n      <td>Scikit-learn</td>\n      <td>TensorFlow</td>\n      <td>Keras</td>\n      <td>0</td>\n      <td>0</td>\n      <td>0</td>\n      <td>0</td>\n      <td>0</td>\n      <td>0</td>\n      <td>0</td>\n    </tr>\n    <tr>\n      <th>...</th>\n      <td>...</td>\n      <td>...</td>\n      <td>...</td>\n      <td>...</td>\n      <td>...</td>\n      <td>...</td>\n      <td>...</td>\n      <td>...</td>\n      <td>...</td>\n      <td>...</td>\n      <td>...</td>\n      <td>...</td>\n      <td>...</td>\n      <td>...</td>\n      <td>...</td>\n      <td>...</td>\n      <td>...</td>\n      <td>...</td>\n      <td>...</td>\n      <td>...</td>\n      <td>...</td>\n    </tr>\n    <tr>\n      <th>3449</th>\n      <td>25-29</td>\n      <td>Masters degree</td>\n      <td>Student</td>\n      <td>0-999</td>\n      <td>0</td>\n      <td>0</td>\n      <td>0</td>\n      <td>0</td>\n      <td>0</td>\n      <td>0</td>\n      <td>...</td>\n      <td>0</td>\n      <td>0</td>\n      <td>0</td>\n      <td>0</td>\n      <td>0</td>\n      <td>0</td>\n      <td>0</td>\n      <td>0</td>\n      <td>0</td>\n      <td>0</td>\n    </tr>\n    <tr>\n      <th>3450</th>\n      <td>18-21</td>\n      <td>Masters degree</td>\n      <td>Student</td>\n      <td>0-999</td>\n      <td>0</td>\n      <td>0</td>\n      <td>0</td>\n      <td>0</td>\n      <td>0</td>\n      <td>0</td>\n      <td>...</td>\n      <td>0</td>\n      <td>0</td>\n      <td>0</td>\n      <td>0</td>\n      <td>0</td>\n      <td>0</td>\n      <td>0</td>\n      <td>0</td>\n      <td>0</td>\n      <td>0</td>\n    </tr>\n    <tr>\n      <th>3451</th>\n      <td>25-29</td>\n      <td>Masters degree</td>\n      <td>Student</td>\n      <td>0-999</td>\n      <td>0</td>\n      <td>0</td>\n      <td>0</td>\n      <td>0</td>\n      <td>0</td>\n      <td>0</td>\n      <td>...</td>\n      <td>0</td>\n      <td>0</td>\n      <td>0</td>\n      <td>0</td>\n      <td>0</td>\n      <td>0</td>\n      <td>0</td>\n      <td>0</td>\n      <td>0</td>\n      <td>0</td>\n    </tr>\n    <tr>\n      <th>3452</th>\n      <td>22-24</td>\n      <td>Masters degree</td>\n      <td>Research Scientist</td>\n      <td>10,000-14,999</td>\n      <td>0</td>\n      <td>0</td>\n      <td>0</td>\n      <td>0</td>\n      <td>0</td>\n      <td>0</td>\n      <td>...</td>\n      <td>0</td>\n      <td>0</td>\n      <td>0</td>\n      <td>0</td>\n      <td>0</td>\n      <td>0</td>\n      <td>0</td>\n      <td>0</td>\n      <td>0</td>\n      <td>0</td>\n    </tr>\n    <tr>\n      <th>3453</th>\n      <td>25-29</td>\n      <td>Bachelors degree</td>\n      <td>Other</td>\n      <td>100,000-124,999</td>\n      <td>0</td>\n      <td>0</td>\n      <td>0</td>\n      <td>0</td>\n      <td>0</td>\n      <td>0</td>\n      <td>...</td>\n      <td>0</td>\n      <td>0</td>\n      <td>0</td>\n      <td>0</td>\n      <td>0</td>\n      <td>0</td>\n      <td>0</td>\n      <td>0</td>\n      <td>0</td>\n      <td>0</td>\n    </tr>\n  </tbody>\n</table>\n<p>3454 rows × 45 columns</p>\n</div>"
     },
     "metadata": {},
     "execution_count": 5
    }
   ],
   "source": [
    "import os\n",
    "import pandas as pd\n",
    "import numpy as np\n",
    "filename = '..\\Data\\dataset_clean.csv'\n",
    "\n",
    "df = pd.read_csv(filename)\n",
    "df_2=df[['Q1','Q4','Q5','Q10','Q16_Part_1','Q16_Part_2','Q16_Part_3','Q16_Part_4','Q16_Part_5','Q16_Part_6','Q16_Part_7','Q16_Part_8','Q16_Part_9','Q16_Part_10','Q18_Part_1','Q18_Part_2','Q18_Part_3','Q18_Part_4','Q18_Part_5','Q18_Part_6','Q18_Part_7','Q18_Part_8','Q18_Part_9','Q18_Part_10','Q23','Q24_Part_1','Q24_Part_2','Q24_Part_3','Q24_Part_4','Q24_Part_5','Q24_Part_6','Q24_Part_7','Q24_Part_8','Q24_Part_9','Q24_Part_10','Q28_Part_1','Q28_Part_2','Q28_Part_3','Q28_Part_4','Q28_Part_5','Q28_Part_6','Q28_Part_7','Q28_Part_8','Q28_Part_9','Q28_Part_10']] \n",
    "\n",
    "df_2"
   ]
  },
  {
   "cell_type": "code",
   "execution_count": 6,
   "metadata": {},
   "outputs": [],
   "source": [
    "cleanup_nums = {\"Q1\":     {\"18-21\": 0, \"22-24\": 0,\"25-29\": 1,\"30-34\": 1,\n",
    "                           \"35-39\": 1,\"40-44\": 2,\"45-49\": 2,\"50-54\": 2,\n",
    "                           \"55-59\": 3,\"60-69\": 3,\"70+\": 3},\n",
    "#                 \"Q2\": {\"Prefer not to say\": 0, \n",
    "#                        \"Prefer to self-describe\": 0, \n",
    "#                        \"Male\": 1, \"Female\": 2},\n",
    "               \"Q4\": {\"I prefer not to answer\": 0, \n",
    "                       \"No formal education past high school\": 0, \n",
    "                       \"Some college/university study without earning a bachelors degree\": 1,\n",
    "                      \"Bachelors degree\": 2,\n",
    "                     \"Masters degree\": 3,\n",
    "                      \"Doctoral degree\": 4,\n",
    "                      \"Professional degree\": 5},\n",
    "                \"Q5\": {\"Not employed\": 0,\n",
    "                       \"Other\": 0,\n",
    "                       \"Student\": 0, \n",
    "                       \"Data Scientist\": 1,\n",
    "                      \"Software Engineer\": 2,\n",
    "                     \"Data Analyst\": 3,\n",
    "                      \"Data Engineer\": 4,\n",
    "                      \"Statistician\": 5,\n",
    "                      \"DBA/Database Engineer\": 6,\n",
    "                      \"Research Scientist\": 7,\n",
    "                       \"Product/Project Manager\": 8,\n",
    "                       \"Business Analyst\": 9},\n",
    "               \"Q10\": {\"0-999\": 0,\n",
    "                       \"1,000-1,999\": 0,\n",
    "                       \"2,000-2,999\": 0, \n",
    "                       \"3,000-3,999\": 0,\n",
    "                      \"4,000-4,999\": 0,\n",
    "                     \"5,000-7,499\": 0,\n",
    "                      \"7,500-9,999\": 0,\n",
    "                      \"10,000-14,999\": 0,\n",
    "                      \"15,000-19,999\": 0,\n",
    "                      \"20,000-24,999\": 0,\n",
    "                       \"25,000-29,999\": 0,\n",
    "                       \"30,000-39,999\": 0,\n",
    "                      \"40,000-49,999\": 0,\n",
    "                      \"50,000-59,999\": 1,\n",
    "                       \"60,000-69,999\": 2,\n",
    "                       \"70,000-79,999\": 3,\n",
    "                      \"80,000-89,999\": 4,\n",
    "                      \"90,000-99,999\": 5,\n",
    "                       \"100,000-124,999\": 6,\n",
    "                       \"125,000-149,999\": 7,\n",
    "                      \"150,000-199,999\": 8,\n",
    "                      \"200,000-249,999\": 9,\n",
    "                       \"250,000-299,999\": 9,\n",
    "                       \"300,000-500,000\": 9,\n",
    "                       \"> $500,000\":  9},\n",
    "                \"Q23\": {\"< 1 years\": 0,\n",
    "                       \"1-2 years\": 1,\n",
    "                       \"2-3 years\": 1, \n",
    "                       \"3-4 years\": 2,\n",
    "                      \"4-5 years\": 2,\n",
    "                     \"5-10 years\": 3,\n",
    "                      \"10-15 years\": 4,\n",
    "                      \"20+ years\": 4\n",
    "                    }\n",
    "                \n",
    "               \n",
    "                \n",
    "               }\n",
    "            \n",
    "\n",
    "\n",
    "\n",
    "df_3=df_2.replace(cleanup_nums)"
   ]
  },
  {
   "cell_type": "code",
   "execution_count": 7,
   "metadata": {},
   "outputs": [],
   "source": [
    "# from sklearn.preprocessing import LabelEncoder\n",
    "# le=LabelEncoder()\n",
    "\n",
    "#  Iterating over all the common columns in train and test\n",
    "# for col in df_3.columns.values:\n",
    "#     if df_3[col].dtypes==object: \n",
    "#         if df_3[col] !=0:\n",
    "#             le.fit(df_3[col].values)\n",
    "#             df_3[col]=le.transform(df_3[col])\n",
    "cols=['Q16_Part_1','Q16_Part_2','Q16_Part_3','Q16_Part_4','Q16_Part_5','Q16_Part_6','Q16_Part_7','Q16_Part_8','Q16_Part_9','Q16_Part_10','Q18_Part_1','Q18_Part_2','Q18_Part_3','Q18_Part_4','Q18_Part_5','Q18_Part_6','Q18_Part_7','Q18_Part_8','Q18_Part_9','Q18_Part_10','Q23','Q24_Part_1','Q24_Part_2','Q24_Part_3','Q24_Part_4','Q24_Part_5','Q24_Part_6','Q24_Part_7','Q24_Part_8','Q24_Part_9','Q24_Part_10','Q28_Part_1','Q28_Part_2','Q28_Part_3','Q28_Part_4','Q28_Part_5','Q28_Part_6','Q28_Part_7','Q28_Part_8','Q28_Part_9','Q28_Part_10']\n",
    "for col in cols:\n",
    "    df_3[col]=pd.to_numeric(df_3[col], errors='coerce').fillna(1).astype(int)\n",
    "\n",
    "                                     "
   ]
  },
  {
   "cell_type": "code",
   "execution_count": 8,
   "metadata": {},
   "outputs": [],
   "source": [
    "cols_Q16=['Q16_Part_1','Q16_Part_2','Q16_Part_3','Q16_Part_4','Q16_Part_5','Q16_Part_6','Q16_Part_7','Q16_Part_8','Q16_Part_9','Q16_Part_10']\n",
    "df_3['Q16_count'] = np.count_nonzero(df_3[cols_Q16],axis=1)\n",
    "cols_Q18=['Q18_Part_1','Q18_Part_2','Q18_Part_3','Q18_Part_4','Q18_Part_5','Q18_Part_6','Q18_Part_7','Q18_Part_8','Q18_Part_9','Q18_Part_10']\n",
    "df_3['Q18_count'] = np.count_nonzero(df_3[cols_Q18],axis=1)\n",
    "cols_Q24=['Q24_Part_1','Q24_Part_2','Q24_Part_3','Q24_Part_4','Q24_Part_5','Q24_Part_6','Q24_Part_7','Q24_Part_8','Q24_Part_9','Q24_Part_10']\n",
    "df_3['Q24_count'] = np.count_nonzero(df_3[cols_Q24],axis=1)\n",
    "cols_Q28=['Q28_Part_1','Q28_Part_2','Q28_Part_3','Q28_Part_4','Q28_Part_5','Q28_Part_6','Q28_Part_7','Q28_Part_8','Q28_Part_9','Q28_Part_10']\n",
    "df_3['Q28_count'] = np.count_nonzero(df_3[cols_Q28],axis=1)"
   ]
  },
  {
   "cell_type": "code",
   "execution_count": 9,
   "metadata": {},
   "outputs": [],
   "source": [
    "df_4=df_3[['Q1','Q4','Q5','Q10','Q23','Q16_count','Q18_count','Q24_count','Q28_count']] \n",
    "# df_4.to_csv('data_x_cleaned.csv', index=False)  "
   ]
  },
  {
   "cell_type": "markdown",
   "metadata": {},
   "source": [
    "# 1. Job Title Prediction Model  - SVM\n",
    "### input user data -> job_input = [x,x,x,x,x,x,x,x]  \n",
    "### output -> ans1 = [job1,job2,job3]"
   ]
  },
  {
   "cell_type": "code",
   "execution_count": 19,
   "metadata": {},
   "outputs": [],
   "source": [
    "from sklearn.model_selection import train_test_split\n",
    "train_df, test_df = train_test_split(df_4,test_size=0.15, random_state=9832)\n",
    "X1_train = train_df.drop(['Q5'], axis=1)\n",
    "Y1_train = train_df['Q5']\n",
    "X1_test  = test_df.drop(['Q5'], axis=1)\n",
    "Y1_test = test_df['Q5']"
   ]
  },
  {
   "cell_type": "code",
   "execution_count": 20,
   "metadata": {},
   "outputs": [
    {
     "output_type": "stream",
     "name": "stdout",
     "text": "Support Vector Machines labeling accuracy: 53.37 %\n"
    }
   ],
   "source": [
    "from sklearn.svm import SVC, LinearSVC\n",
    "svc = SVC(probability=True)                                                  # instantiate\n",
    "svc.fit(X1_train, Y1_train)                                    # fit\n",
    "acc_svc = svc.score(X1_test, Y1_test)                            # predict + evaluate\n",
    "\n",
    "print('Support Vector Machines labeling accuracy:', str(round(acc_svc*100,2)),'%')\n",
    "\n",
    "    "
   ]
  },
  {
   "cell_type": "code",
   "execution_count": 21,
   "metadata": {},
   "outputs": [
    {
     "output_type": "execute_result",
     "data": {
      "text/plain": "['svc_jobs.pkl']"
     },
     "metadata": {},
     "execution_count": 21
    }
   ],
   "source": [
    "from sklearn.externals import joblib\n",
    "joblib.dump(svc, 'svc_jobs.pkl')\n",
    "# lr = joblib.load('model.pkl')"
   ]
  },
  {
   "cell_type": "code",
   "execution_count": 22,
   "metadata": {
    "scrolled": true
   },
   "outputs": [
    {
     "output_type": "stream",
     "name": "stdout",
     "text": "[0.25055554 0.36300572 0.05345072 0.17036894 0.03021728 0.01239944\n 0.0086352  0.02864517 0.02349538 0.05922661]\n[0.0086352  0.01239944 0.02349538 0.02864517 0.03021728 0.05345072\n 0.05922661 0.17036894 0.25055554 0.36300572]\n[1]\n[1, 3, 9]\n"
    }
   ],
   "source": [
    "job_input = [[1,2,2,3,1,2,2,3]]\n",
    "k1_unchanged=svc.predict_proba(job_input)[0]\n",
    "k1=svc.predict_proba(job_input)[0]\n",
    "\n",
    "ynew_result1 = svc.predict(job_input)\n",
    "k1.sort() \n",
    "print(k1_unchanged)\n",
    "print(k1)\n",
    "print(ynew_result1)\n",
    "Second=k1[-2]\n",
    "Third=k1[-3]\n",
    "Fourth=k1[-4]\n",
    "\n",
    "if ynew_result1==0:\n",
    "    Highest = np.where(k1_unchanged ==k1[-2])[0]\n",
    "    Sec_high =  (np.where(k1_unchanged ==k1[-3])[0])\n",
    "    Third_high = (np.where(k1_unchanged ==k1[-4])[0])\n",
    "    ans1 = [Highest[0], Sec_high[0], Third_high[0]]\n",
    "    print(ans1)\n",
    "    \n",
    "else:\n",
    "    Highest = np.where(k1_unchanged ==k1[-1])[0] \n",
    "    Sec_high =  (np.where(k1_unchanged ==k1[-2])[0])\n",
    "    Third_high = (np.where(k1_unchanged ==k1[-3])[0])\n",
    "    Four_high = (np.where(k1_unchanged ==k1[-4])[0])\n",
    "    ans1 = [Highest[0], Sec_high[0], Third_high[0], Four_high[0]]\n",
    "    if 0 in ans1: ans1.remove(0)\n",
    "    print(ans1[0:3])"
   ]
  },
  {
   "cell_type": "code",
   "execution_count": 23,
   "metadata": {},
   "outputs": [],
   "source": [
    "salary_input = ans1"
   ]
  },
  {
   "cell_type": "markdown",
   "metadata": {},
   "source": [
    "# 2. Salary Range Prediction Model - SVM\n",
    "### model input -> salary_model_input = [x,x,job input from ans1,x,x,x,x,x]\n",
    "### output -> ans2 = [salary1,salary2,salary3]"
   ]
  },
  {
   "cell_type": "code",
   "execution_count": 24,
   "metadata": {},
   "outputs": [],
   "source": [
    "from sklearn.model_selection import train_test_split\n",
    "train_df2, test_df2 = train_test_split(df_4,test_size=0.15, random_state=100)\n",
    "X2_train = train_df.drop(['Q10'], axis=1)\n",
    "Y2_train = train_df['Q10']\n",
    "X2_test  = test_df.drop(['Q10'], axis=1)\n",
    "Y2_test = test_df['Q10']"
   ]
  },
  {
   "cell_type": "code",
   "execution_count": 25,
   "metadata": {},
   "outputs": [
    {
     "output_type": "stream",
     "name": "stdout",
     "text": "Support Vector Machines labeling accuracy: 39.69 %\n"
    }
   ],
   "source": [
    "svc = SVC(probability=True)                                                  # instantiate\n",
    "svc.fit(X2_train, Y2_train)                                    # fit\n",
    "acc_svc = svc.score(X2_test, Y2_test)                            # predict + evaluate\n",
    "\n",
    "print('Support Vector Machines labeling accuracy:', str(round(acc_svc*100,2)),'%')\n"
   ]
  },
  {
   "cell_type": "code",
   "execution_count": 26,
   "metadata": {},
   "outputs": [
    {
     "output_type": "execute_result",
     "data": {
      "text/plain": "['svc_salary.pkl']"
     },
     "metadata": {},
     "execution_count": 26
    }
   ],
   "source": [
    "joblib.dump(svc, 'svc_salary.pkl')"
   ]
  },
  {
   "cell_type": "code",
   "execution_count": 27,
   "metadata": {},
   "outputs": [
    {
     "output_type": "stream",
     "name": "stdout",
     "text": "[6]\n[6]\n[6]\n"
    }
   ],
   "source": [
    "ans2 = []\n",
    "for x in salary_input:\n",
    "    salary_model_input = [[0,0,x,0,0,0,0,0]] \n",
    "    k_unchanged=svc.predict_proba(salary_model_input)[0]\n",
    "    k=svc.predict_proba(salary_model_input)[0]\n",
    "    ynew_result = svc.predict(salary_model_input)\n",
    "    #print(k_unchanged)\n",
    "    k.sort() \n",
    "    #print(k)\n",
    "\n",
    "    if ynew_result==0:\n",
    "        Highest = np.where(k_unchanged ==k[-2])[0]\n",
    "        print(Highest)\n",
    "        ans2.append(Highest[0])\n",
    "    else:\n",
    "        Highest = np.where(k_unchanged ==k[-1])[0] \n",
    "        print(Highest)\n",
    "        ans2.append(Highest[0])"
   ]
  },
  {
   "cell_type": "code",
   "execution_count": 28,
   "metadata": {},
   "outputs": [
    {
     "output_type": "stream",
     "name": "stdout",
     "text": "[1, 3, 9] [6, 6, 6]\n"
    }
   ],
   "source": [
    "# ans1 = job recommended\n",
    "# ans2 = salary range predicted based on ans1\n",
    "print(ans1,ans2)\n"
   ]
  },
  {
   "cell_type": "markdown",
   "metadata": {},
   "source": [
    "SalaryRange:           \n",
    "\"0-49,999\": 0,  \n",
    "\"50,000-59,999\": 1,  \n",
    "\"60,000-69,999\": 2,  \n",
    "\"70,000-79,999\": 3,  \n",
    "\"80,000-89,999\": 4,  \n",
    "\"90,000-99,999\": 5,  \n",
    "\"100,000-124,999\": 6,  \n",
    "\"125,000-149,999\": 7,  \n",
    "\"150,000-199,999\": 8,  \n",
    "\"200,000+\": 9"
   ]
  }
 ],
 "metadata": {
  "kernelspec": {
   "display_name": "Python 3",
   "language": "python",
   "name": "python3"
  },
  "language_info": {
   "codemirror_mode": {
    "name": "ipython",
    "version": 3
   },
   "file_extension": ".py",
   "mimetype": "text/x-python",
   "name": "python",
   "nbconvert_exporter": "python",
   "pygments_lexer": "ipython3",
   "version": "3.7.7-final"
  }
 },
 "nbformat": 4,
 "nbformat_minor": 2
}