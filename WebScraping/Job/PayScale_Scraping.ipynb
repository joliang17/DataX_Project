{
 "cells": [
  {
   "cell_type": "code",
   "execution_count": 1,
   "metadata": {},
   "outputs": [],
   "source": [
    "# make it run on py2 and py3\n",
    "from __future__ import division, print_function"
   ]
  },
  {
   "cell_type": "code",
   "execution_count": 2,
   "metadata": {},
   "outputs": [
    {
     "output_type": "display_data",
     "data": {
      "text/plain": "<IPython.core.display.HTML object>",
      "text/html": "<style>.container { width:90% !important; }</style>"
     },
     "metadata": {}
    }
   ],
   "source": [
    "# stretch Jupyter coding blocks to fit screen\n",
    "from IPython.core.display import display, HTML\n",
    "display(HTML(\"<style>.container { width:90% !important; }</style>\")) \n",
    "# if 100% it would fit the screen"
   ]
  },
  {
   "cell_type": "markdown",
   "metadata": {},
   "source": [
    "# Import Packages"
   ]
  },
  {
   "cell_type": "code",
   "execution_count": 3,
   "metadata": {},
   "outputs": [],
   "source": [
    "import requests\n",
    "import bs4 as bs\n",
    "import pandas as pd\n",
    "import re"
   ]
  },
  {
   "cell_type": "markdown",
   "metadata": {},
   "source": [
    "# Connect to a website"
   ]
  },
  {
   "cell_type": "code",
   "execution_count": 4,
   "metadata": {},
   "outputs": [],
   "source": [
    "Job_Title = [\"Data Scientist\", \"Software Engineer\", \"Data Analyst\", \"Data Engineer\", \"Statistician\", \"DBA/Database Engineer\", \"Research Scientist\", \"Product/Project Manager\", \"Business Analyst\"]"
   ]
  },
  {
   "cell_type": "code",
   "execution_count": 5,
   "metadata": {},
   "outputs": [
    {
     "output_type": "execute_result",
     "data": {
      "text/plain": "['Data+Scientist',\n 'Software+Engineer',\n 'Data+Analyst',\n 'Data+Engineer',\n 'Statistician',\n 'DBA/Database+Engineer',\n 'Research+Scientist',\n 'Product/Project+Manager',\n 'Business+Analyst']"
     },
     "metadata": {},
     "execution_count": 5
    }
   ],
   "source": [
    "Job_Title_url = [job.replace(' ', '+') for job in Job_Title]\n",
    "Job_Title_url"
   ]
  },
  {
   "cell_type": "code",
   "execution_count": null,
   "metadata": {},
   "outputs": [],
   "source": [
    "# Get content\n",
    "# https://www.payscale.com/research/US/Job=Data_Analyst/Salary\n",
    "# https://www.payscale.com/rcsearch.aspx?CountryName=United%2BStates&str=Business+Analyst\n",
    "url = \"https://www.payscale.com/rcsearch.aspx?CountryName=United%2BStates&str=\" + Job_Title_url[5]\n",
    "source = requests.get(url)"
   ]
  },
  {
   "cell_type": "code",
   "execution_count": 6,
   "metadata": {},
   "outputs": [],
   "source": [
    "url = 'https://www.payscale.com/rcsearch.aspx?CountryName=United%2BStates&str=Business+Analyst'\n",
    "source = requests.get(url)"
   ]
  },
  {
   "cell_type": "code",
   "execution_count": 7,
   "metadata": {},
   "outputs": [],
   "source": [
    "# Transform to soup type\n",
    "soup = bs.BeautifulSoup(source.content, features='html.parser') "
   ]
  },
  {
   "cell_type": "code",
   "execution_count": null,
   "metadata": {},
   "outputs": [],
   "source": [
    "if soup.find('div', class_='job__description') == None:\n",
    "    candidate_block = soup.find_all('div', class_='RCSearchCategoryResultsContainer')\n",
    "    Candidate_Jobs = [block for block in candidate_block if \"Top Results for Job\" in str(block)]\n",
    "    url = 'https://www.payscale.com' + Candidate_Jobs[0].find_all('li', class_='RCSearchCategoryResultListItem')[0].find('a')['href']\n",
    "\n",
    "    \n",
    "    source = requests.get(url)\n",
    "    soup = bs.BeautifulSoup(source.content, features='html.parser') "
   ]
  },
  {
   "cell_type": "markdown",
   "metadata": {},
   "source": [
    "# Locate to specific class"
   ]
  },
  {
   "cell_type": "code",
   "execution_count": null,
   "metadata": {},
   "outputs": [],
   "source": [
    "Job_link = soup.find('link', rel='canonical')['href']"
   ]
  },
  {
   "cell_type": "code",
   "execution_count": null,
   "metadata": {},
   "outputs": [],
   "source": [
    "AvgSalary = soup.find('div', class_='job__description').text\n",
    "AvgSalary = re.findall(r\"\\$\\d+\\,?\\d*\", AvgSalary)[0]"
   ]
  },
  {
   "cell_type": "code",
   "execution_count": null,
   "metadata": {},
   "outputs": [],
   "source": [
    "Vertical_Box = soup.find_all(class_='popular-skill__name')"
   ]
  },
  {
   "cell_type": "code",
   "execution_count": null,
   "metadata": {},
   "outputs": [],
   "source": [
    "JobInformation = pd.DataFrame(columns = ['Job_Title', 'Salary', 'Skills', 'Href'])\n",
    "JobInformation"
   ]
  },
  {
   "cell_type": "code",
   "execution_count": null,
   "metadata": {},
   "outputs": [],
   "source": [
    "Vertical_Box[0]"
   ]
  },
  {
   "cell_type": "code",
   "execution_count": null,
   "metadata": {},
   "outputs": [],
   "source": [
    "for block in Vertical_Box:\n",
    "    Href = Job_link\n",
    "    Job_Name = Job_Title[0]\n",
    "    Salary = AvgSalary\n",
    "    Skill = block.text\n",
    "    JobList = [Job_Name, Salary, Skill, Href]\n",
    "    JobList = pd.Series(JobList, index = JobInformation.columns)\n",
    "    JobInformation = JobInformation.append(JobList, ignore_index=True)\n",
    "JobInformation"
   ]
  },
  {
   "cell_type": "code",
   "execution_count": null,
   "metadata": {},
   "outputs": [],
   "source": [
    "dir_path = os.path.dirname(os.path.realpath(__file__))\n",
    "JobInformation.to_csv(os.path.join(dir_path, \"JobInformation.csv\"))"
   ]
  },
  {
   "cell_type": "code",
   "execution_count": null,
   "metadata": {},
   "outputs": [],
   "source": []
  }
 ],
 "metadata": {
  "language_info": {
   "name": "python",
   "codemirror_mode": {
    "name": "ipython",
    "version": 3
   },
   "version": "3.7.7-final"
  },
  "orig_nbformat": 2,
  "file_extension": ".py",
  "mimetype": "text/x-python",
  "name": "python",
  "npconvert_exporter": "python",
  "pygments_lexer": "ipython3",
  "version": 3,
  "kernelspec": {
   "name": "python3",
   "display_name": "Python 3"
  }
 },
 "nbformat": 4,
 "nbformat_minor": 2
}