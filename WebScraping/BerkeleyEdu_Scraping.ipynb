{
 "nbformat": 4,
 "nbformat_minor": 2,
 "metadata": {
  "language_info": {
   "name": "python",
   "codemirror_mode": {
    "name": "ipython",
    "version": 3
   },
   "version": "3.7.6-final"
  },
  "orig_nbformat": 2,
  "file_extension": ".py",
  "mimetype": "text/x-python",
  "name": "python",
  "npconvert_exporter": "python",
  "pygments_lexer": "ipython3",
  "version": 3,
  "kernelspec": {
   "name": "python37664bitdataxcondadc7c2b614581426fafc69d312a3bbbce",
   "display_name": "Python 3.7.6 64-bit ('DataX': conda)"
  }
 },
 "cells": [
  {
   "cell_type": "code",
   "execution_count": 1,
   "metadata": {},
   "outputs": [],
   "source": [
    "# make it run on py2 and py3\n",
    "from __future__ import division, print_function"
   ]
  },
  {
   "cell_type": "code",
   "execution_count": 2,
   "metadata": {},
   "outputs": [
    {
     "data": {
      "text/html": "<style>.container { width:90% !important; }</style>",
      "text/plain": "<IPython.core.display.HTML object>"
     },
     "metadata": {},
     "output_type": "display_data"
    }
   ],
   "source": [
    "# stretch Jupyter coding blocks to fit screen\n",
    "from IPython.core.display import display, HTML\n",
    "display(HTML(\"<style>.container { width:90% !important; }</style>\")) \n",
    "# if 100% it would fit the screen"
   ]
  },
  {
   "cell_type": "markdown",
   "metadata": {},
   "source": [
    "# Import Packages"
   ]
  },
  {
   "cell_type": "code",
   "execution_count": 10,
   "metadata": {},
   "outputs": [],
   "source": [
    "import requests\n",
    "import bs4 as bs\n",
    "import pandas as pd"
   ]
  },
  {
   "cell_type": "markdown",
   "metadata": {},
   "source": [
    "# Connect to a website"
   ]
  },
  {
   "cell_type": "code",
   "execution_count": 11,
   "metadata": {},
   "outputs": [],
   "source": [
    "Skill = ['R', 'Python']"
   ]
  },
  {
   "cell_type": "code",
   "execution_count": 12,
   "metadata": {},
   "outputs": [],
   "source": [
    "# Get content\n",
    "source = requests.get(\"http://oskicat.berkeley.edu/search~S1/X?SEARCH=(Python)&SORT=D\")"
   ]
  },
  {
   "cell_type": "code",
   "execution_count": 13,
   "metadata": {},
   "outputs": [],
   "source": [
    "# Transform to soup type\n",
    "soup = bs.BeautifulSoup(source.content, features='html.parser') "
   ]
  },
  {
   "cell_type": "markdown",
   "metadata": {},
   "source": [
    "# Locate to specific class"
   ]
  },
  {
   "cell_type": "code",
   "execution_count": 14,
   "metadata": {},
   "outputs": [],
   "source": [
    "Vertical_Box = soup.find_all('span',class_=\"briefcitTitle\")"
   ]
  },
  {
   "cell_type": "code",
   "execution_count": 15,
   "metadata": {},
   "outputs": [],
   "source": [
    "BookInformation = pd.DataFrame(columns = ['BookName', 'Href'])"
   ]
  },
  {
   "cell_type": "code",
   "execution_count": 16,
   "metadata": {},
   "outputs": [
    {
     "data": {
      "text/html": "<div>\n<style scoped>\n    .dataframe tbody tr th:only-of-type {\n        vertical-align: middle;\n    }\n\n    .dataframe tbody tr th {\n        vertical-align: top;\n    }\n\n    .dataframe thead th {\n        text-align: right;\n    }\n</style>\n<table border=\"1\" class=\"dataframe\">\n  <thead>\n    <tr style=\"text-align: right;\">\n      <th></th>\n      <th>BookName</th>\n      <th>Href</th>\n    </tr>\n  </thead>\n  <tbody>\n    <tr>\n      <th>0</th>\n      <td>Machine learning with Spark and Python : essen...</td>\n      <td>http://oskicat.berkeley.edu/search~S1?/X(Pytho...</td>\n    </tr>\n    <tr>\n      <th>1</th>\n      <td>Introduction to Python for science and enginee...</td>\n      <td>http://oskicat.berkeley.edu/search~S1?/X(Pytho...</td>\n    </tr>\n    <tr>\n      <th>2</th>\n      <td>Python for finance : mastering data-driven fin...</td>\n      <td>http://oskicat.berkeley.edu/search~S1?/X(Pytho...</td>\n    </tr>\n    <tr>\n      <th>3</th>\n      <td>R and Python for oceanographers : a practical ...</td>\n      <td>http://oskicat.berkeley.edu/search~S1?/X(Pytho...</td>\n    </tr>\n    <tr>\n      <th>4</th>\n      <td>PySAM (Python Wrapper for System Advisor Model...</td>\n      <td>http://oskicat.berkeley.edu/search~S1?/X(Pytho...</td>\n    </tr>\n    <tr>\n      <th>5</th>\n      <td>Python GST Implementation (PyGSTi) v. 0.9 [ele...</td>\n      <td>http://oskicat.berkeley.edu/search~S1?/X(Pytho...</td>\n    </tr>\n    <tr>\n      <th>6</th>\n      <td>The Python workbook : a brief introduction wit...</td>\n      <td>http://oskicat.berkeley.edu/search~S1?/X(Pytho...</td>\n    </tr>\n    <tr>\n      <th>7</th>\n      <td>Python for Probability, Statistics, and Machin...</td>\n      <td>http://oskicat.berkeley.edu/search~S1?/X(Pytho...</td>\n    </tr>\n    <tr>\n      <th>8</th>\n      <td>Data science using Python and R / Chantal D. L...</td>\n      <td>http://oskicat.berkeley.edu/search~S1?/X(Pytho...</td>\n    </tr>\n    <tr>\n      <th>9</th>\n      <td>Python machine learning / Wei-Meng Lee</td>\n      <td>http://oskicat.berkeley.edu/search~S1?/X(Pytho...</td>\n    </tr>\n    <tr>\n      <th>10</th>\n      <td>A beginners guide to Python 3 programming / Jo...</td>\n      <td>http://oskicat.berkeley.edu/search~S1?/X(Pytho...</td>\n    </tr>\n    <tr>\n      <th>11</th>\n      <td>Advanced guide to Python 3 programming / John ...</td>\n      <td>http://oskicat.berkeley.edu/search~S1?/X(Pytho...</td>\n    </tr>\n    <tr>\n      <th>12</th>\n      <td>Python by example : learning to program in 150...</td>\n      <td>http://oskicat.berkeley.edu/search~S1?/X(Pytho...</td>\n    </tr>\n    <tr>\n      <th>13</th>\n      <td>Machine Learning with Spark and Python : Essen...</td>\n      <td>http://oskicat.berkeley.edu/search~S1?/X(Pytho...</td>\n    </tr>\n    <tr>\n      <th>14</th>\n      <td>Classic computer science problems in Python / ...</td>\n      <td>http://oskicat.berkeley.edu/search~S1?/X(Pytho...</td>\n    </tr>\n    <tr>\n      <th>15</th>\n      <td>Python machine learning cookbook : over 100 re...</td>\n      <td>http://oskicat.berkeley.edu/search~S1?/X(Pytho...</td>\n    </tr>\n    <tr>\n      <th>16</th>\n      <td>Data science projects with Python : a case stu...</td>\n      <td>http://oskicat.berkeley.edu/search~S1?/X(Pytho...</td>\n    </tr>\n    <tr>\n      <th>17</th>\n      <td>Data visualization with Python : create an imp...</td>\n      <td>http://oskicat.berkeley.edu/search~S1?/X(Pytho...</td>\n    </tr>\n    <tr>\n      <th>18</th>\n      <td>Introducing Python : modern computing in simpl...</td>\n      <td>http://oskicat.berkeley.edu/search~S1?/X(Pytho...</td>\n    </tr>\n    <tr>\n      <th>19</th>\n      <td>Introduction to Python programming / Gowrishan...</td>\n      <td>http://oskicat.berkeley.edu/search~S1?/X(Pytho...</td>\n    </tr>\n    <tr>\n      <th>20</th>\n      <td>Python for programmers : with introductory AI ...</td>\n      <td>http://oskicat.berkeley.edu/search~S1?/X(Pytho...</td>\n    </tr>\n    <tr>\n      <th>21</th>\n      <td>Game development using python / James R. Parker.</td>\n      <td>http://oskicat.berkeley.edu/search~S1?/X(Pytho...</td>\n    </tr>\n    <tr>\n      <th>22</th>\n      <td>Data science with Python and Dask / Jesse C. D...</td>\n      <td>http://oskicat.berkeley.edu/search~S1?/X(Pytho...</td>\n    </tr>\n    <tr>\n      <th>23</th>\n      <td>Hands-on unsupervised learning using Python : ...</td>\n      <td>http://oskicat.berkeley.edu/search~S1?/X(Pytho...</td>\n    </tr>\n    <tr>\n      <th>24</th>\n      <td>Introduction to Python for science and enginee...</td>\n      <td>http://oskicat.berkeley.edu/search~S1?/X(Pytho...</td>\n    </tr>\n    <tr>\n      <th>25</th>\n      <td>A Python Script to Convert MCNP Unstructured M...</td>\n      <td>http://oskicat.berkeley.edu/search~S1?/X(Pytho...</td>\n    </tr>\n    <tr>\n      <th>26</th>\n      <td>Automating the Analysis of GHGRP Data Using Py...</td>\n      <td>http://oskicat.berkeley.edu/search~S1?/X(Pytho...</td>\n    </tr>\n    <tr>\n      <th>27</th>\n      <td>DIC Simulator using Blender and Python. [elect...</td>\n      <td>http://oskicat.berkeley.edu/search~S1?/X(Pytho...</td>\n    </tr>\n    <tr>\n      <th>28</th>\n      <td>Rethinking the C++ / Python Boundary in Modeli...</td>\n      <td>http://oskicat.berkeley.edu/search~S1?/X(Pytho...</td>\n    </tr>\n    <tr>\n      <th>29</th>\n      <td>Supercharged Python : take your code to the ne...</td>\n      <td>http://oskicat.berkeley.edu/search~S1?/X(Pytho...</td>\n    </tr>\n    <tr>\n      <th>30</th>\n      <td>R and Python for oceanographers : a practical ...</td>\n      <td>http://oskicat.berkeley.edu/search~S1?/X(Pytho...</td>\n    </tr>\n    <tr>\n      <th>31</th>\n      <td>Machine learning with Python for everyone / Ma...</td>\n      <td>http://oskicat.berkeley.edu/search~S1?/X(Pytho...</td>\n    </tr>\n    <tr>\n      <th>32</th>\n      <td>Python crash course : a hands-on, project-base...</td>\n      <td>http://oskicat.berkeley.edu/search~S1?/X(Pytho...</td>\n    </tr>\n    <tr>\n      <th>33</th>\n      <td>Numerical Python: scientific computing and dat...</td>\n      <td>http://oskicat.berkeley.edu/search~S1?/X(Pytho...</td>\n    </tr>\n    <tr>\n      <th>34</th>\n      <td>Hands-on unsupervised learning using Python : ...</td>\n      <td>http://oskicat.berkeley.edu/search~S1?/X(Pytho...</td>\n    </tr>\n    <tr>\n      <th>35</th>\n      <td>Python for bioinformatics / Sebastian Bassi.</td>\n      <td>http://oskicat.berkeley.edu/search~S1?/X(Pytho...</td>\n    </tr>\n    <tr>\n      <th>36</th>\n      <td>Python for R users : a data science approach /...</td>\n      <td>http://oskicat.berkeley.edu/search~S1?/X(Pytho...</td>\n    </tr>\n    <tr>\n      <th>37</th>\n      <td>Python for R users : a data science approach /...</td>\n      <td>http://oskicat.berkeley.edu/search~S1?/X(Pytho...</td>\n    </tr>\n    <tr>\n      <th>38</th>\n      <td>Simulating nonlinear circuits with Python powe...</td>\n      <td>http://oskicat.berkeley.edu/search~S1?/X(Pytho...</td>\n    </tr>\n    <tr>\n      <th>39</th>\n      <td>A student's guide to Python for physical model...</td>\n      <td>http://oskicat.berkeley.edu/search~S1?/X(Pytho...</td>\n    </tr>\n    <tr>\n      <th>40</th>\n      <td>Understanding optics with Python / Vasudevan L...</td>\n      <td>http://oskicat.berkeley.edu/search~S1?/X(Pytho...</td>\n    </tr>\n    <tr>\n      <th>41</th>\n      <td>BiEntropy for Python v. 1.0 [electronic resource]</td>\n      <td>http://oskicat.berkeley.edu/search~S1?/X(Pytho...</td>\n    </tr>\n    <tr>\n      <th>42</th>\n      <td>Complex network analysis in Python : recognize...</td>\n      <td>http://oskicat.berkeley.edu/search~S1?/X(Pytho...</td>\n    </tr>\n    <tr>\n      <th>43</th>\n      <td>Using Asyncio in Python 3 : understanding Pyth...</td>\n      <td>http://oskicat.berkeley.edu/search~S1?/X(Pytho...</td>\n    </tr>\n    <tr>\n      <th>44</th>\n      <td>Tethys – A Python Package for Spatial and Temp...</td>\n      <td>http://oskicat.berkeley.edu/search~S1?/X(Pytho...</td>\n    </tr>\n    <tr>\n      <th>45</th>\n      <td>Understanding optics with Python / Vasudevan L...</td>\n      <td>http://oskicat.berkeley.edu/search~S1?/X(Pytho...</td>\n    </tr>\n    <tr>\n      <th>46</th>\n      <td>Web scraping with Python : collecting more dat...</td>\n      <td>http://oskicat.berkeley.edu/search~S1?/X(Pytho...</td>\n    </tr>\n    <tr>\n      <th>47</th>\n      <td>What is Python? / Jake VanderPlas and Matt Har...</td>\n      <td>http://oskicat.berkeley.edu/search~S1?/X(Pytho...</td>\n    </tr>\n    <tr>\n      <th>48</th>\n      <td>A Python-Based ENDF Cross Section Explorer [el...</td>\n      <td>http://oskicat.berkeley.edu/search~S1?/X(Pytho...</td>\n    </tr>\n    <tr>\n      <th>49</th>\n      <td>Python vs. R for data science / Michael Grogan</td>\n      <td>http://oskicat.berkeley.edu/search~S1?/X(Pytho...</td>\n    </tr>\n  </tbody>\n</table>\n</div>",
      "text/plain": "                                             BookName  \\\n0   Machine learning with Spark and Python : essen...   \n1   Introduction to Python for science and enginee...   \n2   Python for finance : mastering data-driven fin...   \n3   R and Python for oceanographers : a practical ...   \n4   PySAM (Python Wrapper for System Advisor Model...   \n5   Python GST Implementation (PyGSTi) v. 0.9 [ele...   \n6   The Python workbook : a brief introduction wit...   \n7   Python for Probability, Statistics, and Machin...   \n8   Data science using Python and R / Chantal D. L...   \n9              Python machine learning / Wei-Meng Lee   \n10  A beginners guide to Python 3 programming / Jo...   \n11  Advanced guide to Python 3 programming / John ...   \n12  Python by example : learning to program in 150...   \n13  Machine Learning with Spark and Python : Essen...   \n14  Classic computer science problems in Python / ...   \n15  Python machine learning cookbook : over 100 re...   \n16  Data science projects with Python : a case stu...   \n17  Data visualization with Python : create an imp...   \n18  Introducing Python : modern computing in simpl...   \n19  Introduction to Python programming / Gowrishan...   \n20  Python for programmers : with introductory AI ...   \n21   Game development using python / James R. Parker.   \n22  Data science with Python and Dask / Jesse C. D...   \n23  Hands-on unsupervised learning using Python : ...   \n24  Introduction to Python for science and enginee...   \n25  A Python Script to Convert MCNP Unstructured M...   \n26  Automating the Analysis of GHGRP Data Using Py...   \n27  DIC Simulator using Blender and Python. [elect...   \n28  Rethinking the C++ / Python Boundary in Modeli...   \n29  Supercharged Python : take your code to the ne...   \n30  R and Python for oceanographers : a practical ...   \n31  Machine learning with Python for everyone / Ma...   \n32  Python crash course : a hands-on, project-base...   \n33  Numerical Python: scientific computing and dat...   \n34  Hands-on unsupervised learning using Python : ...   \n35       Python for bioinformatics / Sebastian Bassi.   \n36  Python for R users : a data science approach /...   \n37  Python for R users : a data science approach /...   \n38  Simulating nonlinear circuits with Python powe...   \n39  A student's guide to Python for physical model...   \n40  Understanding optics with Python / Vasudevan L...   \n41  BiEntropy for Python v. 1.0 [electronic resource]   \n42  Complex network analysis in Python : recognize...   \n43  Using Asyncio in Python 3 : understanding Pyth...   \n44  Tethys – A Python Package for Spatial and Temp...   \n45  Understanding optics with Python / Vasudevan L...   \n46  Web scraping with Python : collecting more dat...   \n47  What is Python? / Jake VanderPlas and Matt Har...   \n48  A Python-Based ENDF Cross Section Explorer [el...   \n49     Python vs. R for data science / Michael Grogan   \n\n                                                 Href  \n0   http://oskicat.berkeley.edu/search~S1?/X(Pytho...  \n1   http://oskicat.berkeley.edu/search~S1?/X(Pytho...  \n2   http://oskicat.berkeley.edu/search~S1?/X(Pytho...  \n3   http://oskicat.berkeley.edu/search~S1?/X(Pytho...  \n4   http://oskicat.berkeley.edu/search~S1?/X(Pytho...  \n5   http://oskicat.berkeley.edu/search~S1?/X(Pytho...  \n6   http://oskicat.berkeley.edu/search~S1?/X(Pytho...  \n7   http://oskicat.berkeley.edu/search~S1?/X(Pytho...  \n8   http://oskicat.berkeley.edu/search~S1?/X(Pytho...  \n9   http://oskicat.berkeley.edu/search~S1?/X(Pytho...  \n10  http://oskicat.berkeley.edu/search~S1?/X(Pytho...  \n11  http://oskicat.berkeley.edu/search~S1?/X(Pytho...  \n12  http://oskicat.berkeley.edu/search~S1?/X(Pytho...  \n13  http://oskicat.berkeley.edu/search~S1?/X(Pytho...  \n14  http://oskicat.berkeley.edu/search~S1?/X(Pytho...  \n15  http://oskicat.berkeley.edu/search~S1?/X(Pytho...  \n16  http://oskicat.berkeley.edu/search~S1?/X(Pytho...  \n17  http://oskicat.berkeley.edu/search~S1?/X(Pytho...  \n18  http://oskicat.berkeley.edu/search~S1?/X(Pytho...  \n19  http://oskicat.berkeley.edu/search~S1?/X(Pytho...  \n20  http://oskicat.berkeley.edu/search~S1?/X(Pytho...  \n21  http://oskicat.berkeley.edu/search~S1?/X(Pytho...  \n22  http://oskicat.berkeley.edu/search~S1?/X(Pytho...  \n23  http://oskicat.berkeley.edu/search~S1?/X(Pytho...  \n24  http://oskicat.berkeley.edu/search~S1?/X(Pytho...  \n25  http://oskicat.berkeley.edu/search~S1?/X(Pytho...  \n26  http://oskicat.berkeley.edu/search~S1?/X(Pytho...  \n27  http://oskicat.berkeley.edu/search~S1?/X(Pytho...  \n28  http://oskicat.berkeley.edu/search~S1?/X(Pytho...  \n29  http://oskicat.berkeley.edu/search~S1?/X(Pytho...  \n30  http://oskicat.berkeley.edu/search~S1?/X(Pytho...  \n31  http://oskicat.berkeley.edu/search~S1?/X(Pytho...  \n32  http://oskicat.berkeley.edu/search~S1?/X(Pytho...  \n33  http://oskicat.berkeley.edu/search~S1?/X(Pytho...  \n34  http://oskicat.berkeley.edu/search~S1?/X(Pytho...  \n35  http://oskicat.berkeley.edu/search~S1?/X(Pytho...  \n36  http://oskicat.berkeley.edu/search~S1?/X(Pytho...  \n37  http://oskicat.berkeley.edu/search~S1?/X(Pytho...  \n38  http://oskicat.berkeley.edu/search~S1?/X(Pytho...  \n39  http://oskicat.berkeley.edu/search~S1?/X(Pytho...  \n40  http://oskicat.berkeley.edu/search~S1?/X(Pytho...  \n41  http://oskicat.berkeley.edu/search~S1?/X(Pytho...  \n42  http://oskicat.berkeley.edu/search~S1?/X(Pytho...  \n43  http://oskicat.berkeley.edu/search~S1?/X(Pytho...  \n44  http://oskicat.berkeley.edu/search~S1?/X(Pytho...  \n45  http://oskicat.berkeley.edu/search~S1?/X(Pytho...  \n46  http://oskicat.berkeley.edu/search~S1?/X(Pytho...  \n47  http://oskicat.berkeley.edu/search~S1?/X(Pytho...  \n48  http://oskicat.berkeley.edu/search~S1?/X(Pytho...  \n49  http://oskicat.berkeley.edu/search~S1?/X(Pytho...  "
     },
     "execution_count": 16,
     "metadata": {},
     "output_type": "execute_result"
    }
   ],
   "source": [
    "for block in Vertical_Box:\n",
    "    Href = 'http://oskicat.berkeley.edu' + block.a['href']\n",
    "    BookName = block.text.replace('\\n', '')\n",
    "    BookList = [BookName, Href]\n",
    "    BookList = pd.Series(BookList, index = BookInformation.columns)\n",
    "    BookInformation = BookInformation.append(BookList, ignore_index=True)\n",
    "BookInformation"
   ]
  },
  {
   "cell_type": "code",
   "execution_count": 17,
   "metadata": {},
   "outputs": [],
   "source": [
    "BookInformation.to_csv(\"BookInformation.csv\")"
   ]
  },
  {
   "cell_type": "code",
   "execution_count": null,
   "metadata": {},
   "outputs": [],
   "source": []
  }
 ]
}