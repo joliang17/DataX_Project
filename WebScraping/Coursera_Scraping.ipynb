{
 "nbformat": 4,
 "nbformat_minor": 2,
 "metadata": {
  "language_info": {
   "name": "python",
   "codemirror_mode": {
    "name": "ipython",
    "version": 3
   },
   "version": "3.7.6-final"
  },
  "orig_nbformat": 2,
  "file_extension": ".py",
  "mimetype": "text/x-python",
  "name": "python",
  "npconvert_exporter": "python",
  "pygments_lexer": "ipython3",
  "version": 3,
  "kernelspec": {
   "name": "python37664bitdataxcondadc7c2b614581426fafc69d312a3bbbce",
   "display_name": "Python 3.7.6 64-bit ('DataX': conda)"
  }
 },
 "cells": [
  {
   "cell_type": "code",
   "execution_count": 1,
   "metadata": {},
   "outputs": [],
   "source": [
    "# make it run on py2 and py3\n",
    "from __future__ import division, print_function"
   ]
  },
  {
   "cell_type": "code",
   "execution_count": 2,
   "metadata": {},
   "outputs": [
    {
     "data": {
      "text/html": "<style>.container { width:90% !important; }</style>",
      "text/plain": "<IPython.core.display.HTML object>"
     },
     "metadata": {},
     "output_type": "display_data"
    }
   ],
   "source": [
    "# stretch Jupyter coding blocks to fit screen\n",
    "from IPython.core.display import display, HTML\n",
    "display(HTML(\"<style>.container { width:90% !important; }</style>\")) \n",
    "# if 100% it would fit the screen"
   ]
  },
  {
   "cell_type": "markdown",
   "metadata": {},
   "source": [
    "# Import Packages"
   ]
  },
  {
   "cell_type": "code",
   "execution_count": 3,
   "metadata": {},
   "outputs": [],
   "source": [
    "import requests\n",
    "import bs4 as bs\n",
    "import pandas as pd"
   ]
  },
  {
   "cell_type": "markdown",
   "metadata": {},
   "source": [
    "# Connect to a website"
   ]
  },
  {
   "cell_type": "code",
   "execution_count": 4,
   "metadata": {},
   "outputs": [],
   "source": [
    "Skill = ['R', 'Python','SQL']"
   ]
  },
  {
   "cell_type": "code",
   "execution_count": 5,
   "metadata": {},
   "outputs": [],
   "source": [
    "# Get content\n",
    "source = requests.get(\"https://www.coursera.org/search?query=R\")"
   ]
  },
  {
   "cell_type": "code",
   "execution_count": 6,
   "metadata": {},
   "outputs": [],
   "source": [
    "# Transform to soup type\n",
    "soup = bs.BeautifulSoup(source.content, features='html.parser') "
   ]
  },
  {
   "cell_type": "markdown",
   "metadata": {},
   "source": [
    "# Locate to specific class"
   ]
  },
  {
   "cell_type": "code",
   "execution_count": 7,
   "metadata": {},
   "outputs": [],
   "source": [
    "Vertical_Box = soup.find_all('li',class_=\"ais-InfiniteHits-item\")"
   ]
  },
  {
   "cell_type": "code",
   "execution_count": 8,
   "metadata": {},
   "outputs": [
    {
     "data": {
      "text/html": "<div>\n<style scoped>\n    .dataframe tbody tr th:only-of-type {\n        vertical-align: middle;\n    }\n\n    .dataframe tbody tr th {\n        vertical-align: top;\n    }\n\n    .dataframe thead th {\n        text-align: right;\n    }\n</style>\n<table border=\"1\" class=\"dataframe\">\n  <thead>\n    <tr style=\"text-align: right;\">\n      <th></th>\n      <th>CourseName</th>\n      <th>Rating</th>\n      <th>ClassDifficulty</th>\n      <th>PartnerName</th>\n      <th>Href</th>\n    </tr>\n  </thead>\n  <tbody>\n  </tbody>\n</table>\n</div>",
      "text/plain": "Empty DataFrame\nColumns: [CourseName, Rating, ClassDifficulty, PartnerName, Href]\nIndex: []"
     },
     "execution_count": 8,
     "metadata": {},
     "output_type": "execute_result"
    }
   ],
   "source": [
    "CourseInformation = pd.DataFrame(columns = ['CourseName', 'Rating', 'ClassDifficulty', 'PartnerName', 'Href'])\n",
    "CourseInformation"
   ]
  },
  {
   "cell_type": "code",
   "execution_count": 9,
   "metadata": {},
   "outputs": [
    {
     "data": {
      "text/html": "<div>\n<style scoped>\n    .dataframe tbody tr th:only-of-type {\n        vertical-align: middle;\n    }\n\n    .dataframe tbody tr th {\n        vertical-align: top;\n    }\n\n    .dataframe thead th {\n        text-align: right;\n    }\n</style>\n<table border=\"1\" class=\"dataframe\">\n  <thead>\n    <tr style=\"text-align: right;\">\n      <th></th>\n      <th>CourseName</th>\n      <th>Rating</th>\n      <th>ClassDifficulty</th>\n      <th>PartnerName</th>\n      <th>Href</th>\n    </tr>\n  </thead>\n  <tbody>\n    <tr>\n      <th>0</th>\n      <td>Data Science: Foundations using R</td>\n      <td>4.5</td>\n      <td>Beginner</td>\n      <td>Johns Hopkins University</td>\n      <td>www.coursera.org/specializations/data-science-...</td>\n    </tr>\n    <tr>\n      <th>1</th>\n      <td>Statistics with R</td>\n      <td>4.7</td>\n      <td>Beginner</td>\n      <td>Duke University</td>\n      <td>www.coursera.org/specializations/statistics</td>\n    </tr>\n    <tr>\n      <th>2</th>\n      <td>R Programming</td>\n      <td>4.6</td>\n      <td>Intermediate</td>\n      <td>Johns Hopkins University</td>\n      <td>www.coursera.org/learn/r-programming</td>\n    </tr>\n    <tr>\n      <th>3</th>\n      <td>Introducción a Data Science: Programación Esta...</td>\n      <td>4.7</td>\n      <td>Beginner</td>\n      <td>Universidad Nacional Autónoma de México</td>\n      <td>www.coursera.org/learn/intro-data-science-prog...</td>\n    </tr>\n    <tr>\n      <th>4</th>\n      <td>Data Science</td>\n      <td>4.5</td>\n      <td>Beginner</td>\n      <td>Johns Hopkins University</td>\n      <td>www.coursera.org/specializations/jhu-data-science</td>\n    </tr>\n    <tr>\n      <th>5</th>\n      <td>IBM Data Science</td>\n      <td>4.6</td>\n      <td>Beginner</td>\n      <td>IBM</td>\n      <td>www.coursera.org/professional-certificates/ibm...</td>\n    </tr>\n    <tr>\n      <th>6</th>\n      <td>Data Science: Statistics and Machine Learning</td>\n      <td>4.3</td>\n      <td>Intermediate</td>\n      <td>Johns Hopkins University</td>\n      <td>www.coursera.org/specializations/data-science-...</td>\n    </tr>\n    <tr>\n      <th>7</th>\n      <td>Mastering Software Development in R</td>\n      <td>4.3</td>\n      <td>Beginner</td>\n      <td>Johns Hopkins University</td>\n      <td>www.coursera.org/specializations/r</td>\n    </tr>\n    <tr>\n      <th>8</th>\n      <td>Statistical Analysis with R for Public Health</td>\n      <td>4.6</td>\n      <td>Beginner</td>\n      <td>Imperial College London</td>\n      <td>www.coursera.org/specializations/statistical-a...</td>\n    </tr>\n    <tr>\n      <th>9</th>\n      <td>Linear Regression and Modeling</td>\n      <td>4.7</td>\n      <td>Beginner</td>\n      <td>Duke University</td>\n      <td>www.coursera.org/learn/linear-regression-model</td>\n    </tr>\n  </tbody>\n</table>\n</div>",
      "text/plain": "                                          CourseName Rating ClassDifficulty  \\\n0                  Data Science: Foundations using R    4.5        Beginner   \n1                                  Statistics with R    4.7        Beginner   \n2                                      R Programming    4.6    Intermediate   \n3  Introducción a Data Science: Programación Esta...    4.7        Beginner   \n4                                       Data Science    4.5        Beginner   \n5                                   IBM Data Science    4.6        Beginner   \n6      Data Science: Statistics and Machine Learning    4.3    Intermediate   \n7                Mastering Software Development in R    4.3        Beginner   \n8      Statistical Analysis with R for Public Health    4.6        Beginner   \n9                     Linear Regression and Modeling    4.7        Beginner   \n\n                               PartnerName  \\\n0                 Johns Hopkins University   \n1                          Duke University   \n2                 Johns Hopkins University   \n3  Universidad Nacional Autónoma de México   \n4                 Johns Hopkins University   \n5                                      IBM   \n6                 Johns Hopkins University   \n7                 Johns Hopkins University   \n8                  Imperial College London   \n9                          Duke University   \n\n                                                Href  \n0  www.coursera.org/specializations/data-science-...  \n1        www.coursera.org/specializations/statistics  \n2               www.coursera.org/learn/r-programming  \n3  www.coursera.org/learn/intro-data-science-prog...  \n4  www.coursera.org/specializations/jhu-data-science  \n5  www.coursera.org/professional-certificates/ibm...  \n6  www.coursera.org/specializations/data-science-...  \n7                 www.coursera.org/specializations/r  \n8  www.coursera.org/specializations/statistical-a...  \n9     www.coursera.org/learn/linear-regression-model  "
     },
     "execution_count": 9,
     "metadata": {},
     "output_type": "execute_result"
    }
   ],
   "source": [
    "for block in Vertical_Box:\n",
    "    Href = 'www.coursera.org' + block.find('a')['href']\n",
    "    CourseName = block.find(class_=\"color-primary-text card-title headline-1-text\").text\n",
    "    Rating = block.find(class_=\"ratings-text\").text\n",
    "    ClassDifficulty = block.find(class_=\"difficulty\").text\n",
    "    PartnerName = block.find(class_=\"partner-name\").text\n",
    "    CourseList = [CourseName, Rating, ClassDifficulty, PartnerName, Href]\n",
    "    CourseList = pd.Series(CourseList, index = CourseInformation.columns)\n",
    "    CourseInformation = CourseInformation.append(CourseList, ignore_index=True)\n",
    "CourseInformation"
   ]
  },
  {
   "cell_type": "code",
   "execution_count": 10,
   "metadata": {},
   "outputs": [],
   "source": [
    "CourseInformation.to_csv(\"CourseInformation.csv\")"
   ]
  },
  {
   "cell_type": "code",
   "execution_count": null,
   "metadata": {},
   "outputs": [],
   "source": []
  }
 ]
}