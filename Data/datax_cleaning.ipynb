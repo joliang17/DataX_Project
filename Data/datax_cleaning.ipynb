{
 "cells": [
  {
   "cell_type": "code",
   "execution_count": 1,
   "metadata": {},
   "outputs": [],
   "source": [
    "import numpy as np\n",
    "import pandas as pd\n",
    "import matplotlib.pyplot as plt"
   ]
  },
  {
   "cell_type": "code",
   "execution_count": 2,
   "metadata": {},
   "outputs": [],
   "source": [
    "from IPython.core.interactiveshell import InteractiveShell\n",
    "InteractiveShell.ast_node_interactivity = \"all\""
   ]
  },
  {
   "cell_type": "code",
   "execution_count": 3,
   "metadata": {},
   "outputs": [],
   "source": [
    "data = pd.read_csv('/Users/cheng-chunchao/Desktop/data-x-dataset.csv')"
   ]
  },
  {
   "cell_type": "markdown",
   "metadata": {},
   "source": [
    "# Cleaned questions list could be checked on google docs: question_detail"
   ]
  },
  {
   "cell_type": "code",
   "execution_count": 4,
   "metadata": {},
   "outputs": [],
   "source": [
    "# seperate questions into a new dataframe\n",
    "question = data.iloc[0,:]\n",
    "data = data.drop(0,axis=0)"
   ]
  },
  {
   "cell_type": "code",
   "execution_count": 5,
   "metadata": {},
   "outputs": [],
   "source": [
    "data = data[data['Q5'].notna()] # delete those who didn't fill title - having most NaN"
   ]
  },
  {
   "cell_type": "markdown",
   "metadata": {},
   "source": [
    "## Clean NaN value and change type into numerical or categorical"
   ]
  },
  {
   "cell_type": "code",
   "execution_count": 6,
   "metadata": {},
   "outputs": [],
   "source": [
    "# pd.unique(data['Q1'])\n",
    "data['Q1'] = data['Q1'].astype('category')\n",
    "\n",
    "# pd.unique(data['Q2'])\n",
    "data['Q2'] = data['Q2'].astype('category')\n",
    "\n",
    "# pd.unique(data['Q3'])\n",
    "data['Q3'] = data['Q3'].astype('category')\n",
    "\n",
    "# Replace NaN value in education into 'I prefer not to answer'\n",
    "data['Q4'].fillna('I prefer not to answer',inplace=True)\n",
    "data['Q4'] = data['Q4'].astype('category')\n",
    "\n",
    "# Replace NaN value, students are unemployed\n",
    "data['Q6'].fillna('Not employed',inplace=True) \n",
    "data['Q6'] = data['Q6'].astype('category')\n",
    "\n",
    "# Rank to what degree do people incorporate machine learning methods into their work\n",
    "data['Q8'].fillna(0,inplace=True)\n",
    "data['Q8'].replace(\n",
    "    ['We recently started using ML methods (i.e., models in production for less than 2 years)',\n",
    "     'I do not know',\n",
    "     'We use ML methods for generating insights (but do not put working models into production)',\n",
    "     'We have well established ML methods (i.e., models in production for more than 2 years)',\n",
    "     'We are exploring ML methods (and may one day put a model into production)',\n",
    "     'No (we do not use ML methods)'],[3,0,2,4,1,0],inplace=True)\n",
    "\n",
    "# Replace plain text description with Yes/No\n",
    "data['Q9_Part_1'].replace(['Analyze and understand data to influence product or business decisions'],['True'],inplace=True)\n",
    "data['Q9_Part_2'].replace(['Build and/or run the data infrastructure that my business uses for storing, analyzing, and operationalizing data'],['True'],inplace=True)\n",
    "data['Q9_Part_3'].replace(['Build prototypes to explore applying machine learning to new areas'],['True'],inplace=True)\n",
    "data['Q9_Part_4'].replace(['Build and/or run a machine learning service that operationally improves my product or workflows'],['True'],inplace=True)\n",
    "data['Q9_Part_5'].replace(['Experimentation and iteration to improve existing ML models'],['True'],inplace=True)\n",
    "data['Q9_Part_6'].replace(['Do research that advances the state of the art of machine learning'],['True'],inplace=True)\n",
    "data['Q9_Part_7'].replace(['None of these activities are an important part of my role at work'],['True'],inplace=True)\n",
    "del data['Q9_Part_8']\n",
    "\n",
    "data['Q9_Part_1'].fillna('False',inplace=True)\n",
    "data['Q9_Part_2'].fillna('False',inplace=True)\n",
    "data['Q9_Part_3'].fillna('False',inplace=True)\n",
    "data['Q9_Part_4'].fillna('False',inplace=True)\n",
    "data['Q9_Part_5'].fillna('False',inplace=True)\n",
    "data['Q9_Part_6'].fillna('False',inplace=True)\n",
    "data['Q9_Part_7'].fillna('False',inplace=True)\n",
    "\n",
    "data['Q9_Part_1'] = data['Q9_Part_1'].astype('category')\n",
    "data['Q9_Part_2'] = data['Q9_Part_2'].astype('category')\n",
    "data['Q9_Part_3'] = data['Q9_Part_3'].astype('category')\n",
    "data['Q9_Part_4'] = data['Q9_Part_4'].astype('category')\n",
    "data['Q9_Part_5'] = data['Q9_Part_5'].astype('category')\n",
    "data['Q9_Part_6'] = data['Q9_Part_6'].astype('category')\n",
    "data['Q9_Part_7'] = data['Q9_Part_7'].astype('category')\n"
   ]
  },
  {
   "cell_type": "markdown",
   "metadata": {},
   "source": [
    "### Assign 0 salary to students & not employed, and fill NaN value by calculating guess matrix of age & title"
   ]
  },
  {
   "cell_type": "code",
   "execution_count": 7,
   "metadata": {},
   "outputs": [],
   "source": [
    "# Assign $0 salary to students & not employed, and fill NaN value by calculating guess matrix of age & title\n",
    "data['Q10'][data['Q5']=='Student'].fillna('0-999',inplace=True)\n",
    "data['Q10'][data['Q5']=='Not employed'].fillna('0-999',inplace=True)\n",
    "data['Q10'].replace(['$0-999'],['0-999'],inplace=True)\n",
    "data['Q10'] = data['Q10'].astype('category')\n",
    "\n",
    "guess_matrix_salary = np.empty((11,12),dtype=object)\n",
    "test=[]\n",
    "for i in range(0, 11):\n",
    "    for j in range(0, 12):\n",
    "        guess_df = data[(data['Q1'] == pd.unique(data['Q1'])[i])&(data['Q5'] == pd.unique(data['Q5'])[j])]['Q10'].dropna()\n",
    "        \n",
    "        try:\n",
    "            salary_guess = guess_df.mode().iloc[0]\n",
    "        except IndexError:\n",
    "            salary_guess = '0-999'\n",
    "            \n",
    "        guess_matrix_salary[i,j] = salary_guess\n",
    "    \n",
    "\n",
    "for i in range(0, 11): \n",
    "    for j in range(0, 12): \n",
    "        data.loc[(data['Q10'].isnull()) & (data['Q1'] == pd.unique(data['Q1'])[i]) & (data['Q5'] == pd.unique(data['Q5'])[j]),'Q10'] = guess_matrix_salary[i,j]\n",
    "\n",
    "data['Q10'] = data['Q10'].astype('category')"
   ]
  },
  {
   "cell_type": "markdown",
   "metadata": {},
   "source": [
    "### Money you spent on machine learning and/or cloud computing products "
   ]
  },
  {
   "cell_type": "code",
   "execution_count": 8,
   "metadata": {},
   "outputs": [],
   "source": [
    "# Money you spent on machine learning and/or cloud computing products \n",
    "data['Q11'].fillna('$0 (USD)',inplace=True)\n",
    "data['Q11'] = data['Q11'].astype('category')"
   ]
  },
  {
   "cell_type": "markdown",
   "metadata": {},
   "source": [
    "### On which platforms have you begun or completed data science courses? (multiple choices)"
   ]
  },
  {
   "cell_type": "code",
   "execution_count": 9,
   "metadata": {},
   "outputs": [
    {
     "data": {
      "text/plain": [
       "1       0\n",
       "2       0\n",
       "3       1\n",
       "4       0\n",
       "5       0\n",
       "       ..\n",
       "3529    0\n",
       "3530    0\n",
       "3531    0\n",
       "3533    0\n",
       "3534    0\n",
       "Name: Q13_Part_1, Length: 3454, dtype: int64"
      ]
     },
     "execution_count": 9,
     "metadata": {},
     "output_type": "execute_result"
    },
    {
     "data": {
      "text/plain": [
       "1       0\n",
       "2       0\n",
       "3       1\n",
       "4       1\n",
       "5       1\n",
       "       ..\n",
       "3529    0\n",
       "3530    0\n",
       "3531    1\n",
       "3533    0\n",
       "3534    0\n",
       "Name: Q13_Part_2, Length: 3454, dtype: int64"
      ]
     },
     "execution_count": 9,
     "metadata": {},
     "output_type": "execute_result"
    },
    {
     "data": {
      "text/plain": [
       "1       0\n",
       "2       0\n",
       "3       0\n",
       "4       1\n",
       "5       0\n",
       "       ..\n",
       "3529    0\n",
       "3530    0\n",
       "3531    1\n",
       "3533    0\n",
       "3534    0\n",
       "Name: Q13_Part_3, Length: 3454, dtype: int64"
      ]
     },
     "execution_count": 9,
     "metadata": {},
     "output_type": "execute_result"
    },
    {
     "data": {
      "text/plain": [
       "1       0\n",
       "2       0\n",
       "3       0\n",
       "4       0\n",
       "5       1\n",
       "       ..\n",
       "3529    0\n",
       "3530    0\n",
       "3531    0\n",
       "3533    0\n",
       "3534    0\n",
       "Name: Q13_Part_4, Length: 3454, dtype: int64"
      ]
     },
     "execution_count": 9,
     "metadata": {},
     "output_type": "execute_result"
    },
    {
     "data": {
      "text/plain": [
       "1       0\n",
       "2       0\n",
       "3       1\n",
       "4       0\n",
       "5       0\n",
       "       ..\n",
       "3529    0\n",
       "3530    0\n",
       "3531    0\n",
       "3533    0\n",
       "3534    0\n",
       "Name: Q13_Part_5, Length: 3454, dtype: int64"
      ]
     },
     "execution_count": 9,
     "metadata": {},
     "output_type": "execute_result"
    },
    {
     "data": {
      "text/plain": [
       "1       0\n",
       "2       1\n",
       "3       1\n",
       "4       0\n",
       "5       1\n",
       "       ..\n",
       "3529    1\n",
       "3530    0\n",
       "3531    0\n",
       "3533    0\n",
       "3534    0\n",
       "Name: Q13_Part_6, Length: 3454, dtype: int64"
      ]
     },
     "execution_count": 9,
     "metadata": {},
     "output_type": "execute_result"
    },
    {
     "data": {
      "text/plain": [
       "1       0\n",
       "2       0\n",
       "3       1\n",
       "4       0\n",
       "5       0\n",
       "       ..\n",
       "3529    0\n",
       "3530    0\n",
       "3531    0\n",
       "3533    0\n",
       "3534    0\n",
       "Name: Q13_Part_7, Length: 3454, dtype: int64"
      ]
     },
     "execution_count": 9,
     "metadata": {},
     "output_type": "execute_result"
    },
    {
     "data": {
      "text/plain": [
       "1       1\n",
       "2       0\n",
       "3       1\n",
       "4       1\n",
       "5       0\n",
       "       ..\n",
       "3529    0\n",
       "3530    0\n",
       "3531    0\n",
       "3533    0\n",
       "3534    0\n",
       "Name: Q13_Part_8, Length: 3454, dtype: int64"
      ]
     },
     "execution_count": 9,
     "metadata": {},
     "output_type": "execute_result"
    },
    {
     "data": {
      "text/plain": [
       "1       0\n",
       "2       0\n",
       "3       0\n",
       "4       0\n",
       "5       0\n",
       "       ..\n",
       "3529    0\n",
       "3530    0\n",
       "3531    0\n",
       "3533    0\n",
       "3534    0\n",
       "Name: Q13_Part_9, Length: 3454, dtype: int64"
      ]
     },
     "execution_count": 9,
     "metadata": {},
     "output_type": "execute_result"
    },
    {
     "data": {
      "text/plain": [
       "1       1\n",
       "2       1\n",
       "3       1\n",
       "4       0\n",
       "5       0\n",
       "       ..\n",
       "3529    0\n",
       "3530    0\n",
       "3531    1\n",
       "3533    0\n",
       "3534    0\n",
       "Name: Q13_Part_10, Length: 3454, dtype: int64"
      ]
     },
     "execution_count": 9,
     "metadata": {},
     "output_type": "execute_result"
    }
   ],
   "source": [
    "# On which platforms have you begun or completed data science courses? (multiple choices)\n",
    "data['Q13_Part_1'].fillna(0,inplace=True)\n",
    "data['Q13_Part_1'].replace('Udacity',1)\n",
    "data['Q13_Part_1'] = data['Q13_Part_1'].astype('category')\n",
    "\n",
    "data['Q13_Part_2'].fillna(0,inplace=True)\n",
    "data['Q13_Part_2'].replace('Coursera',1)\n",
    "data['Q13_Part_2'] = data['Q13_Part_2'].astype('category')\n",
    "\n",
    "data['Q13_Part_3'].fillna(0,inplace=True)\n",
    "data['Q13_Part_3'].replace('edX',1)\n",
    "data['Q13_Part_3'] = data['Q13_Part_3'].astype('category')\n",
    "\n",
    "data['Q13_Part_4'].fillna(0,inplace=True)\n",
    "data['Q13_Part_4'].replace('DataCamp',1)\n",
    "data['Q13_Part_4'] = data['Q13_Part_4'].astype('category')\n",
    "\n",
    "data['Q13_Part_5'].fillna(0,inplace=True)\n",
    "data['Q13_Part_5'].replace('DataQuest',1)\n",
    "data['Q13_Part_5'] = data['Q13_Part_5'].astype('category')\n",
    "\n",
    "data['Q13_Part_6'].fillna(0,inplace=True)\n",
    "data['Q13_Part_6'].replace('Kaggle Courses (i.e. Kaggle Learn)',1)\n",
    "data['Q13_Part_6'] = data['Q13_Part_6'].astype('category')\n",
    "\n",
    "data['Q13_Part_7'].fillna(0,inplace=True)\n",
    "data['Q13_Part_7'].replace('Fast.ai',1)\n",
    "data['Q13_Part_7'] = data['Q13_Part_7'].astype('category')\n",
    "\n",
    "data['Q13_Part_8'].fillna(0,inplace=True)\n",
    "data['Q13_Part_8'].replace('Udemy',1)\n",
    "data['Q13_Part_8'] = data['Q13_Part_8'].astype('category')\n",
    "\n",
    "data['Q13_Part_9'].fillna(0,inplace=True)\n",
    "data['Q13_Part_9'].replace('LinkedIn Learning',1)\n",
    "data['Q13_Part_9'] = data['Q13_Part_9'].astype('category')\n",
    "\n",
    "data['Q13_Part_10'].fillna(0,inplace=True)\n",
    "data['Q13_Part_10'].replace('University Courses (resulting in a university degree)',1)\n",
    "data['Q13_Part_10'] = data['Q13_Part_10'].astype('category')\n",
    "\n",
    "del data['Q13_Part_11']\n",
    "del data['Q13_Part_12']"
   ]
  },
  {
   "cell_type": "markdown",
   "metadata": {},
   "source": [
    "### What is the primary tool that you use at work or school to analyze data?"
   ]
  },
  {
   "cell_type": "code",
   "execution_count": 10,
   "metadata": {},
   "outputs": [],
   "source": [
    "# What is the primary tool that you use at work or school to analyze data?\n",
    "del data['Q14_Part_1_TEXT']\n",
    "del data['Q14_Part_2_TEXT']\n",
    "del data['Q14_Part_3_TEXT']\n",
    "del data['Q14_Part_4_TEXT']\n",
    "del data['Q14_Part_5_TEXT']\n",
    "del data['Q14_OTHER_TEXT']\n",
    "\n",
    "data['Q14'].fillna('Other',inplace=True)\n",
    "data['Q14'] = data['Q14'].astype('category')"
   ]
  },
  {
   "cell_type": "markdown",
   "metadata": {},
   "source": [
    "### How long have you been writing code to analyze data?"
   ]
  },
  {
   "cell_type": "code",
   "execution_count": 11,
   "metadata": {},
   "outputs": [],
   "source": [
    "# How long have you been writing code to analyze data?\n",
    "data['Q15'].fillna('< 1 years',inplace=True)\n",
    "data['Q15'] = data['Q15'].astype('category')"
   ]
  },
  {
   "cell_type": "markdown",
   "metadata": {},
   "source": [
    "### Which of the following integrated development environments (IDE's) do you use on a regular basis?"
   ]
  },
  {
   "cell_type": "code",
   "execution_count": 12,
   "metadata": {},
   "outputs": [
    {
     "data": {
      "text/plain": [
       "1       1\n",
       "2       1\n",
       "3       1\n",
       "4       1\n",
       "5       1\n",
       "       ..\n",
       "3529    0\n",
       "3530    0\n",
       "3531    0\n",
       "3533    0\n",
       "3534    0\n",
       "Name: Q16_Part_1, Length: 3454, dtype: int64"
      ]
     },
     "execution_count": 12,
     "metadata": {},
     "output_type": "execute_result"
    },
    {
     "data": {
      "text/plain": [
       "1       0\n",
       "2       0\n",
       "3       0\n",
       "4       1\n",
       "5       0\n",
       "       ..\n",
       "3529    0\n",
       "3530    0\n",
       "3531    0\n",
       "3533    0\n",
       "3534    0\n",
       "Name: Q16_Part_2, Length: 3454, dtype: int64"
      ]
     },
     "execution_count": 12,
     "metadata": {},
     "output_type": "execute_result"
    },
    {
     "data": {
      "text/plain": [
       "1       0\n",
       "2       1\n",
       "3       1\n",
       "4       0\n",
       "5       0\n",
       "       ..\n",
       "3529    0\n",
       "3530    0\n",
       "3531    0\n",
       "3533    0\n",
       "3534    0\n",
       "Name: Q16_Part_3, Length: 3454, dtype: int64"
      ]
     },
     "execution_count": 12,
     "metadata": {},
     "output_type": "execute_result"
    },
    {
     "data": {
      "text/plain": [
       "1       0\n",
       "2       1\n",
       "3       1\n",
       "4       0\n",
       "5       0\n",
       "       ..\n",
       "3529    0\n",
       "3530    0\n",
       "3531    0\n",
       "3533    0\n",
       "3534    0\n",
       "Name: Q16_Part_4, Length: 3454, dtype: int64"
      ]
     },
     "execution_count": 12,
     "metadata": {},
     "output_type": "execute_result"
    },
    {
     "data": {
      "text/plain": [
       "1       0\n",
       "2       0\n",
       "3       0\n",
       "4       0\n",
       "5       0\n",
       "       ..\n",
       "3529    0\n",
       "3530    0\n",
       "3531    0\n",
       "3533    0\n",
       "3534    0\n",
       "Name: Q16_Part_5, Length: 3454, dtype: int64"
      ]
     },
     "execution_count": 12,
     "metadata": {},
     "output_type": "execute_result"
    },
    {
     "data": {
      "text/plain": [
       "1       0\n",
       "2       0\n",
       "3       0\n",
       "4       1\n",
       "5       0\n",
       "       ..\n",
       "3529    0\n",
       "3530    0\n",
       "3531    0\n",
       "3533    0\n",
       "3534    0\n",
       "Name: Q16_Part_6, Length: 3454, dtype: int64"
      ]
     },
     "execution_count": 12,
     "metadata": {},
     "output_type": "execute_result"
    },
    {
     "data": {
      "text/plain": [
       "1       1\n",
       "2       0\n",
       "3       0\n",
       "4       0\n",
       "5       0\n",
       "       ..\n",
       "3529    0\n",
       "3530    0\n",
       "3531    0\n",
       "3533    0\n",
       "3534    0\n",
       "Name: Q16_Part_7, Length: 3454, dtype: int64"
      ]
     },
     "execution_count": 12,
     "metadata": {},
     "output_type": "execute_result"
    },
    {
     "data": {
      "text/plain": [
       "1       0\n",
       "2       0\n",
       "3       0\n",
       "4       0\n",
       "5       0\n",
       "       ..\n",
       "3529    0\n",
       "3530    0\n",
       "3531    0\n",
       "3533    0\n",
       "3534    0\n",
       "Name: Q16_Part_8, Length: 3454, dtype: int64"
      ]
     },
     "execution_count": 12,
     "metadata": {},
     "output_type": "execute_result"
    },
    {
     "data": {
      "text/plain": [
       "1       0\n",
       "2       0\n",
       "3       1\n",
       "4       1\n",
       "5       1\n",
       "       ..\n",
       "3529    0\n",
       "3530    0\n",
       "3531    0\n",
       "3533    0\n",
       "3534    0\n",
       "Name: Q16_Part_9, Length: 3454, dtype: int64"
      ]
     },
     "execution_count": 12,
     "metadata": {},
     "output_type": "execute_result"
    },
    {
     "data": {
      "text/plain": [
       "1       0\n",
       "2       0\n",
       "3       1\n",
       "4       0\n",
       "5       0\n",
       "       ..\n",
       "3529    0\n",
       "3530    0\n",
       "3531    0\n",
       "3533    0\n",
       "3534    0\n",
       "Name: Q16_Part_10, Length: 3454, dtype: int64"
      ]
     },
     "execution_count": 12,
     "metadata": {},
     "output_type": "execute_result"
    }
   ],
   "source": [
    "# Which of the following integrated development environments (IDE's) do you use on a regular basis? \n",
    "data['Q16_Part_1'].fillna(0,inplace=True)\n",
    "data['Q16_Part_1'].replace('Jupyter (JupyterLab, Jupyter Notebooks, etc) ',1)\n",
    "data['Q16_Part_1'] = data['Q16_Part_1'].astype('category')\n",
    "\n",
    "data['Q16_Part_2'].fillna(0,inplace=True)\n",
    "data['Q16_Part_2'].replace(' RStudio ',1)\n",
    "data['Q16_Part_2'] = data['Q16_Part_2'].astype('category')\n",
    "\n",
    "data['Q16_Part_3'].fillna(0,inplace=True)\n",
    "data['Q16_Part_3'].replace(' PyCharm ',1)\n",
    "data['Q16_Part_3'] = data['Q16_Part_3'].astype('category')\n",
    "\n",
    "data['Q16_Part_4'].fillna(0,inplace=True)\n",
    "data['Q16_Part_4'].replace(' Atom ',1)\n",
    "data['Q16_Part_4'] = data['Q16_Part_4'].astype('category')\n",
    "\n",
    "data['Q16_Part_5'].fillna(0,inplace=True)\n",
    "data['Q16_Part_5'].replace(' MATLAB ',1)\n",
    "data['Q16_Part_5'] = data['Q16_Part_5'].astype('category')\n",
    "\n",
    "data['Q16_Part_6'].fillna(0,inplace=True)\n",
    "data['Q16_Part_6'].replace(' Visual Studio / Visual Studio Code ',1)\n",
    "data['Q16_Part_6'] = data['Q16_Part_6'].astype('category')\n",
    "\n",
    "data['Q16_Part_7'].fillna(0,inplace=True)\n",
    "data['Q16_Part_7'].replace('  Spyder  ',1)\n",
    "data['Q16_Part_7'] = data['Q16_Part_7'].astype('category')\n",
    "\n",
    "data['Q16_Part_8'].fillna(0,inplace=True)\n",
    "data['Q16_Part_8'].replace('  Vim / Emacs  ',1)\n",
    "data['Q16_Part_8'] = data['Q16_Part_8'].astype('category')\n",
    "\n",
    "data['Q16_Part_9'].fillna(0,inplace=True)\n",
    "data['Q16_Part_9'].replace('  Notepad++  ',1)\n",
    "data['Q16_Part_9'] = data['Q16_Part_9'].astype('category')\n",
    "\n",
    "data['Q16_Part_10'].fillna(0,inplace=True)\n",
    "data['Q16_Part_10'].replace('  Sublime Text  ',1)\n",
    "data['Q16_Part_10'] = data['Q16_Part_10'].astype('category')"
   ]
  },
  {
   "cell_type": "markdown",
   "metadata": {},
   "source": [
    "### What programming languages do you use on a regular basis? "
   ]
  },
  {
   "cell_type": "code",
   "execution_count": 13,
   "metadata": {},
   "outputs": [
    {
     "data": {
      "text/plain": [
       "1       1\n",
       "2       1\n",
       "3       1\n",
       "4       1\n",
       "5       1\n",
       "       ..\n",
       "3529    0\n",
       "3530    0\n",
       "3531    0\n",
       "3533    0\n",
       "3534    0\n",
       "Name: Q18_Part_1, Length: 3454, dtype: int64"
      ]
     },
     "execution_count": 13,
     "metadata": {},
     "output_type": "execute_result"
    },
    {
     "data": {
      "text/plain": [
       "1       0\n",
       "2       0\n",
       "3       0\n",
       "4       1\n",
       "5       0\n",
       "       ..\n",
       "3529    0\n",
       "3530    0\n",
       "3531    0\n",
       "3533    0\n",
       "3534    0\n",
       "Name: Q18_Part_2, Length: 3454, dtype: int64"
      ]
     },
     "execution_count": 13,
     "metadata": {},
     "output_type": "execute_result"
    },
    {
     "data": {
      "text/plain": [
       "1       0\n",
       "2       0\n",
       "3       0\n",
       "4       1\n",
       "5       0\n",
       "       ..\n",
       "3529    0\n",
       "3530    0\n",
       "3531    0\n",
       "3533    0\n",
       "3534    0\n",
       "Name: Q18_Part_3, Length: 3454, dtype: int64"
      ]
     },
     "execution_count": 13,
     "metadata": {},
     "output_type": "execute_result"
    },
    {
     "data": {
      "text/plain": [
       "1       0\n",
       "2       0\n",
       "3       0\n",
       "4       0\n",
       "5       0\n",
       "       ..\n",
       "3529    0\n",
       "3530    0\n",
       "3531    0\n",
       "3533    0\n",
       "3534    0\n",
       "Name: Q18_Part_4, Length: 3454, dtype: int64"
      ]
     },
     "execution_count": 13,
     "metadata": {},
     "output_type": "execute_result"
    },
    {
     "data": {
      "text/plain": [
       "1       0\n",
       "2       0\n",
       "3       0\n",
       "4       0\n",
       "5       0\n",
       "       ..\n",
       "3529    0\n",
       "3530    0\n",
       "3531    0\n",
       "3533    0\n",
       "3534    0\n",
       "Name: Q18_Part_5, Length: 3454, dtype: int64"
      ]
     },
     "execution_count": 13,
     "metadata": {},
     "output_type": "execute_result"
    },
    {
     "data": {
      "text/plain": [
       "1       0\n",
       "2       0\n",
       "3       0\n",
       "4       0\n",
       "5       0\n",
       "       ..\n",
       "3529    0\n",
       "3530    0\n",
       "3531    0\n",
       "3533    0\n",
       "3534    0\n",
       "Name: Q18_Part_6, Length: 3454, dtype: int64"
      ]
     },
     "execution_count": 13,
     "metadata": {},
     "output_type": "execute_result"
    },
    {
     "data": {
      "text/plain": [
       "1       0\n",
       "2       0\n",
       "3       0\n",
       "4       0\n",
       "5       0\n",
       "       ..\n",
       "3529    0\n",
       "3530    0\n",
       "3531    0\n",
       "3533    0\n",
       "3534    0\n",
       "Name: Q18_Part_7, Length: 3454, dtype: int64"
      ]
     },
     "execution_count": 13,
     "metadata": {},
     "output_type": "execute_result"
    },
    {
     "data": {
      "text/plain": [
       "1       0\n",
       "2       0\n",
       "3       0\n",
       "4       0\n",
       "5       0\n",
       "       ..\n",
       "3529    0\n",
       "3530    0\n",
       "3531    0\n",
       "3533    0\n",
       "3534    0\n",
       "Name: Q18_Part_8, Length: 3454, dtype: int64"
      ]
     },
     "execution_count": 13,
     "metadata": {},
     "output_type": "execute_result"
    },
    {
     "data": {
      "text/plain": [
       "1       0\n",
       "2       0\n",
       "3       0\n",
       "4       0\n",
       "5       0\n",
       "       ..\n",
       "3529    0\n",
       "3530    0\n",
       "3531    0\n",
       "3533    0\n",
       "3534    0\n",
       "Name: Q18_Part_9, Length: 3454, dtype: int64"
      ]
     },
     "execution_count": 13,
     "metadata": {},
     "output_type": "execute_result"
    },
    {
     "data": {
      "text/plain": [
       "1       0\n",
       "2       0\n",
       "3       0\n",
       "4       0\n",
       "5       0\n",
       "       ..\n",
       "3529    0\n",
       "3530    0\n",
       "3531    0\n",
       "3533    0\n",
       "3534    0\n",
       "Name: Q18_Part_10, Length: 3454, dtype: int64"
      ]
     },
     "execution_count": 13,
     "metadata": {},
     "output_type": "execute_result"
    }
   ],
   "source": [
    "# What programming languages do you use on a regular basis? \n",
    "data['Q18_Part_1'].fillna(0,inplace=True)\n",
    "data['Q18_Part_1'].replace('Python',1)\n",
    "data['Q18_Part_1'] = data['Q18_Part_1'].astype('category')\n",
    "\n",
    "data['Q18_Part_2'].fillna(0,inplace=True)\n",
    "data['Q18_Part_2'].replace('R',1)\n",
    "data['Q18_Part_2'] = data['Q18_Part_2'].astype('category')\n",
    "\n",
    "data['Q18_Part_3'].fillna(0,inplace=True)\n",
    "data['Q18_Part_3'].replace('SQL',1)\n",
    "data['Q18_Part_3'] = data['Q18_Part_3'].astype('category')\n",
    "\n",
    "data['Q18_Part_4'].fillna(0,inplace=True)\n",
    "data['Q18_Part_4'].replace('C',1)\n",
    "data['Q18_Part_4'] = data['Q18_Part_4'].astype('category')\n",
    "\n",
    "data['Q18_Part_5'].fillna(0,inplace=True)\n",
    "data['Q18_Part_5'].replace('C++',1)\n",
    "data['Q18_Part_5'] = data['Q18_Part_5'].astype('category')\n",
    "\n",
    "data['Q18_Part_6'].fillna(0,inplace=True)\n",
    "data['Q18_Part_6'].replace('Java',1)\n",
    "data['Q18_Part_6'] = data['Q18_Part_6'].astype('category')\n",
    "\n",
    "data['Q18_Part_7'].fillna(0,inplace=True)\n",
    "data['Q18_Part_7'].replace('Javascript',1)\n",
    "data['Q18_Part_7'] = data['Q18_Part_7'].astype('category')\n",
    "\n",
    "data['Q18_Part_8'].fillna(0,inplace=True)\n",
    "data['Q18_Part_8'].replace('TypeScript',1)\n",
    "data['Q18_Part_8'] = data['Q18_Part_8'].astype('category')\n",
    "\n",
    "data['Q18_Part_9'].fillna(0,inplace=True)\n",
    "data['Q18_Part_9'].replace('Bash',1)\n",
    "data['Q18_Part_9'] = data['Q18_Part_9'].astype('category')\n",
    "\n",
    "data['Q18_Part_10'].fillna(0,inplace=True)\n",
    "data['Q18_Part_10'].replace('MATLAB',1)\n",
    "data['Q18_Part_10'] = data['Q18_Part_10'].astype('category')\n",
    "\n",
    "del data['Q19']"
   ]
  },
  {
   "cell_type": "markdown",
   "metadata": {},
   "source": [
    "### What data visualization libraries or tools do you use on a regular basis?  "
   ]
  },
  {
   "cell_type": "code",
   "execution_count": 14,
   "metadata": {},
   "outputs": [
    {
     "data": {
      "text/plain": [
       "1       0\n",
       "2       0\n",
       "3       0\n",
       "4       1\n",
       "5       0\n",
       "       ..\n",
       "3529    0\n",
       "3530    0\n",
       "3531    0\n",
       "3533    0\n",
       "3534    0\n",
       "Name: Q20_Part_1, Length: 3454, dtype: int64"
      ]
     },
     "execution_count": 14,
     "metadata": {},
     "output_type": "execute_result"
    },
    {
     "data": {
      "text/plain": [
       "1       1\n",
       "2       1\n",
       "3       1\n",
       "4       1\n",
       "5       1\n",
       "       ..\n",
       "3529    0\n",
       "3530    0\n",
       "3531    0\n",
       "3533    0\n",
       "3534    0\n",
       "Name: Q20_Part_2, Length: 3454, dtype: int64"
      ]
     },
     "execution_count": 14,
     "metadata": {},
     "output_type": "execute_result"
    },
    {
     "data": {
      "text/plain": [
       "1       0\n",
       "2       0\n",
       "3       0\n",
       "4       0\n",
       "5       0\n",
       "       ..\n",
       "3529    0\n",
       "3530    0\n",
       "3531    0\n",
       "3533    0\n",
       "3534    0\n",
       "Name: Q20_Part_3, Length: 3454, dtype: int64"
      ]
     },
     "execution_count": 14,
     "metadata": {},
     "output_type": "execute_result"
    },
    {
     "data": {
      "text/plain": [
       "1       0\n",
       "2       0\n",
       "3       0\n",
       "4       0\n",
       "5       0\n",
       "       ..\n",
       "3529    0\n",
       "3530    0\n",
       "3531    0\n",
       "3533    0\n",
       "3534    0\n",
       "Name: Q20_Part_4, Length: 3454, dtype: int64"
      ]
     },
     "execution_count": 14,
     "metadata": {},
     "output_type": "execute_result"
    },
    {
     "data": {
      "text/plain": [
       "1       0\n",
       "2       0\n",
       "3       0\n",
       "4       0\n",
       "5       0\n",
       "       ..\n",
       "3529    0\n",
       "3530    0\n",
       "3531    0\n",
       "3533    0\n",
       "3534    0\n",
       "Name: Q20_Part_5, Length: 3454, dtype: int64"
      ]
     },
     "execution_count": 14,
     "metadata": {},
     "output_type": "execute_result"
    },
    {
     "data": {
      "text/plain": [
       "1       1\n",
       "2       0\n",
       "3       1\n",
       "4       0\n",
       "5       0\n",
       "       ..\n",
       "3529    0\n",
       "3530    0\n",
       "3531    0\n",
       "3533    0\n",
       "3534    0\n",
       "Name: Q20_Part_6, Length: 3454, dtype: int64"
      ]
     },
     "execution_count": 14,
     "metadata": {},
     "output_type": "execute_result"
    },
    {
     "data": {
      "text/plain": [
       "1       0\n",
       "2       0\n",
       "3       0\n",
       "4       0\n",
       "5       0\n",
       "       ..\n",
       "3529    0\n",
       "3530    0\n",
       "3531    0\n",
       "3533    0\n",
       "3534    0\n",
       "Name: Q20_Part_7, Length: 3454, dtype: int64"
      ]
     },
     "execution_count": 14,
     "metadata": {},
     "output_type": "execute_result"
    },
    {
     "data": {
      "text/plain": [
       "1       0\n",
       "2       1\n",
       "3       1\n",
       "4       1\n",
       "5       0\n",
       "       ..\n",
       "3529    0\n",
       "3530    0\n",
       "3531    0\n",
       "3533    0\n",
       "3534    0\n",
       "Name: Q20_Part_8, Length: 3454, dtype: int64"
      ]
     },
     "execution_count": 14,
     "metadata": {},
     "output_type": "execute_result"
    },
    {
     "data": {
      "text/plain": [
       "1       0\n",
       "2       0\n",
       "3       0\n",
       "4       0\n",
       "5       0\n",
       "       ..\n",
       "3529    0\n",
       "3530    0\n",
       "3531    0\n",
       "3533    0\n",
       "3534    0\n",
       "Name: Q20_Part_9, Length: 3454, dtype: int64"
      ]
     },
     "execution_count": 14,
     "metadata": {},
     "output_type": "execute_result"
    },
    {
     "data": {
      "text/plain": [
       "1       0\n",
       "2       0\n",
       "3       0\n",
       "4       0\n",
       "5       0\n",
       "       ..\n",
       "3529    0\n",
       "3530    0\n",
       "3531    0\n",
       "3533    0\n",
       "3534    0\n",
       "Name: Q20_Part_10, Length: 3454, dtype: int64"
      ]
     },
     "execution_count": 14,
     "metadata": {},
     "output_type": "execute_result"
    }
   ],
   "source": [
    "# What data visualization libraries or tools do you use on a regular basis?  \n",
    "data['Q20_Part_1'].fillna(0,inplace=True)\n",
    "data['Q20_Part_1'].replace(' Ggplot / ggplot2 ',1)\n",
    "data['Q20_Part_1'] = data['Q20_Part_1'].astype('category')\n",
    "\n",
    "data['Q20_Part_2'].fillna(0,inplace=True)\n",
    "data['Q20_Part_2'].replace(' Matplotlib ',1)\n",
    "data['Q20_Part_2'] = data['Q20_Part_2'].astype('category')\n",
    "\n",
    "data['Q20_Part_3'].fillna(0,inplace=True)\n",
    "data['Q20_Part_3'].replace(' Altair ',1)\n",
    "data['Q20_Part_3'] = data['Q20_Part_3'].astype('category')\n",
    "\n",
    "data['Q20_Part_4'].fillna(0,inplace=True)\n",
    "data['Q20_Part_4'].replace(' Shiny ',1)\n",
    "data['Q20_Part_4'] = data['Q20_Part_4'].astype('category')\n",
    "\n",
    "data['Q20_Part_5'].fillna(0,inplace=True)\n",
    "data['Q20_Part_5'].replace(' D3.js ',1)\n",
    "data['Q20_Part_5'] = data['Q20_Part_5'].astype('category')\n",
    "\n",
    "data['Q20_Part_6'].fillna(0,inplace=True)\n",
    "data['Q20_Part_6'].replace(' Plotly / Plotly Express ',1)\n",
    "data['Q20_Part_6'] = data['Q20_Part_6'].astype('category')\n",
    "\n",
    "data['Q20_Part_7'].fillna(0,inplace=True)\n",
    "data['Q20_Part_7'].replace(' Bokeh ',1)\n",
    "data['Q20_Part_7'] = data['Q20_Part_7'].astype('category')\n",
    "\n",
    "data['Q20_Part_8'].fillna(0,inplace=True)\n",
    "data['Q20_Part_8'].replace(' Seaborn ',1)\n",
    "data['Q20_Part_8'] = data['Q20_Part_8'].astype('category')\n",
    "\n",
    "data['Q20_Part_9'].fillna(0,inplace=True)\n",
    "data['Q20_Part_9'].replace(' Geoplotlib ',1)\n",
    "data['Q20_Part_9'] = data['Q20_Part_9'].astype('category')\n",
    "\n",
    "data['Q20_Part_10'].fillna(0,inplace=True)\n",
    "data['Q20_Part_10'].replace(' Leaflet / Folium ',1)\n",
    "data['Q20_Part_10'] = data['Q20_Part_10'].astype('category')\n",
    "\n",
    "del data['Q21_Part_1']"
   ]
  },
  {
   "cell_type": "markdown",
   "metadata": {},
   "source": [
    "### For how many years have you used machine learning methods?"
   ]
  },
  {
   "cell_type": "code",
   "execution_count": 15,
   "metadata": {},
   "outputs": [],
   "source": [
    "# For how many years have you used machine learning methods?\n",
    "data['Q23'].fillna('< 1 years',inplace=True)\n",
    "data['Q23'] = data['Q23'].astype('category')"
   ]
  },
  {
   "cell_type": "markdown",
   "metadata": {},
   "source": [
    "### Which of the following ML algorithms do you use on a regular basis?"
   ]
  },
  {
   "cell_type": "code",
   "execution_count": 16,
   "metadata": {},
   "outputs": [
    {
     "data": {
      "text/plain": [
       "1       1\n",
       "2       1\n",
       "3       1\n",
       "4       1\n",
       "5       1\n",
       "       ..\n",
       "3529    0\n",
       "3530    0\n",
       "3531    0\n",
       "3533    0\n",
       "3534    0\n",
       "Name: Q24_Part_1, Length: 3454, dtype: int64"
      ]
     },
     "execution_count": 16,
     "metadata": {},
     "output_type": "execute_result"
    },
    {
     "data": {
      "text/plain": [
       "1       1\n",
       "2       1\n",
       "3       1\n",
       "4       1\n",
       "5       0\n",
       "       ..\n",
       "3529    0\n",
       "3530    0\n",
       "3531    0\n",
       "3533    0\n",
       "3534    0\n",
       "Name: Q24_Part_2, Length: 3454, dtype: int64"
      ]
     },
     "execution_count": 16,
     "metadata": {},
     "output_type": "execute_result"
    },
    {
     "data": {
      "text/plain": [
       "1       0\n",
       "2       1\n",
       "3       0\n",
       "4       0\n",
       "5       0\n",
       "       ..\n",
       "3529    0\n",
       "3530    0\n",
       "3531    0\n",
       "3533    0\n",
       "3534    0\n",
       "Name: Q24_Part_3, Length: 3454, dtype: int64"
      ]
     },
     "execution_count": 16,
     "metadata": {},
     "output_type": "execute_result"
    },
    {
     "data": {
      "text/plain": [
       "1       0\n",
       "2       1\n",
       "3       1\n",
       "4       1\n",
       "5       1\n",
       "       ..\n",
       "3529    0\n",
       "3530    0\n",
       "3531    0\n",
       "3533    0\n",
       "3534    0\n",
       "Name: Q24_Part_4, Length: 3454, dtype: int64"
      ]
     },
     "execution_count": 16,
     "metadata": {},
     "output_type": "execute_result"
    },
    {
     "data": {
      "text/plain": [
       "1       0\n",
       "2       1\n",
       "3       0\n",
       "4       0\n",
       "5       0\n",
       "       ..\n",
       "3529    0\n",
       "3530    0\n",
       "3531    0\n",
       "3533    0\n",
       "3534    0\n",
       "Name: Q24_Part_5, Length: 3454, dtype: int64"
      ]
     },
     "execution_count": 16,
     "metadata": {},
     "output_type": "execute_result"
    },
    {
     "data": {
      "text/plain": [
       "1       0\n",
       "2       1\n",
       "3       0\n",
       "4       0\n",
       "5       0\n",
       "       ..\n",
       "3529    0\n",
       "3530    0\n",
       "3531    0\n",
       "3533    0\n",
       "3534    0\n",
       "Name: Q24_Part_6, Length: 3454, dtype: int64"
      ]
     },
     "execution_count": 16,
     "metadata": {},
     "output_type": "execute_result"
    },
    {
     "data": {
      "text/plain": [
       "1       1\n",
       "2       1\n",
       "3       0\n",
       "4       0\n",
       "5       1\n",
       "       ..\n",
       "3529    0\n",
       "3530    0\n",
       "3531    0\n",
       "3533    0\n",
       "3534    0\n",
       "Name: Q24_Part_7, Length: 3454, dtype: int64"
      ]
     },
     "execution_count": 16,
     "metadata": {},
     "output_type": "execute_result"
    },
    {
     "data": {
      "text/plain": [
       "1       0\n",
       "2       0\n",
       "3       0\n",
       "4       0\n",
       "5       0\n",
       "       ..\n",
       "3529    0\n",
       "3530    0\n",
       "3531    0\n",
       "3533    0\n",
       "3534    0\n",
       "Name: Q24_Part_8, Length: 3454, dtype: int64"
      ]
     },
     "execution_count": 16,
     "metadata": {},
     "output_type": "execute_result"
    },
    {
     "data": {
      "text/plain": [
       "1       0\n",
       "2       0\n",
       "3       0\n",
       "4       0\n",
       "5       0\n",
       "       ..\n",
       "3529    0\n",
       "3530    0\n",
       "3531    0\n",
       "3533    0\n",
       "3534    0\n",
       "Name: Q24_Part_9, Length: 3454, dtype: int64"
      ]
     },
     "execution_count": 16,
     "metadata": {},
     "output_type": "execute_result"
    },
    {
     "data": {
      "text/plain": [
       "1       0\n",
       "2       0\n",
       "3       0\n",
       "4       0\n",
       "5       0\n",
       "       ..\n",
       "3529    0\n",
       "3530    0\n",
       "3531    0\n",
       "3533    0\n",
       "3534    0\n",
       "Name: Q24_Part_10, Length: 3454, dtype: int64"
      ]
     },
     "execution_count": 16,
     "metadata": {},
     "output_type": "execute_result"
    }
   ],
   "source": [
    "# Which of the following ML algorithms do you use on a regular basis?\n",
    "data['Q24_Part_1'].fillna(0,inplace=True)\n",
    "data['Q24_Part_1'].replace('Linear or Logistic Regression',1)\n",
    "data['Q24_Part_1'] = data['Q24_Part_1'].astype('category')\n",
    "\n",
    "data['Q24_Part_2'].fillna(0,inplace=True)\n",
    "data['Q24_Part_2'].replace('Decision Trees or Random Forests',1)\n",
    "data['Q24_Part_2'] = data['Q24_Part_2'].astype('category')\n",
    "\n",
    "data['Q24_Part_3'].fillna(0,inplace=True)\n",
    "data['Q24_Part_3'].replace('Gradient Boosting Machines (xgboost, lightgbm, etc)',1)\n",
    "data['Q24_Part_3'] = data['Q24_Part_3'].astype('category')\n",
    "\n",
    "data['Q24_Part_4'].fillna(0,inplace=True)\n",
    "data['Q24_Part_4'].replace('Bayesian Approaches',1)\n",
    "data['Q24_Part_4'] = data['Q24_Part_4'].astype('category')\n",
    "\n",
    "data['Q24_Part_5'].fillna(0,inplace=True)\n",
    "data['Q24_Part_5'].replace('Evolutionary Approaches',1)\n",
    "data['Q24_Part_5'] = data['Q24_Part_5'].astype('category')\n",
    "\n",
    "data['Q24_Part_6'].fillna(0,inplace=True)\n",
    "data['Q24_Part_6'].replace('Dense Neural Networks (MLPs, etc)',1)\n",
    "data['Q24_Part_6'] = data['Q24_Part_6'].astype('category')\n",
    "\n",
    "data['Q24_Part_7'].fillna(0,inplace=True)\n",
    "data['Q24_Part_7'].replace('Convolutional Neural Networks',1)\n",
    "data['Q24_Part_7'] = data['Q24_Part_7'].astype('category')\n",
    "\n",
    "data['Q24_Part_8'].fillna(0,inplace=True)\n",
    "data['Q24_Part_8'].replace('Generative Adversarial Networks',1)\n",
    "data['Q24_Part_8'] = data['Q24_Part_8'].astype('category')\n",
    "\n",
    "data['Q24_Part_9'].fillna(0,inplace=True)\n",
    "data['Q24_Part_9'].replace('Recurrent Neural Networks',1)\n",
    "data['Q24_Part_9'] = data['Q24_Part_9'].astype('category')\n",
    "\n",
    "data['Q24_Part_10'].fillna(0,inplace=True)\n",
    "data['Q24_Part_10'].replace('Transformer Networks (BERT, gpt-2, etc)',1)\n",
    "data['Q24_Part_10'] = data['Q24_Part_10'].astype('category')"
   ]
  },
  {
   "cell_type": "code",
   "execution_count": 17,
   "metadata": {},
   "outputs": [],
   "source": [
    "# delete useless and similar columns\n",
    "del data['Q25_Part_1']\n",
    "del data['Q25_Part_2']\n",
    "del data['Q25_Part_3']\n",
    "del data['Q25_Part_4']\n",
    "del data['Q25_Part_5']\n",
    "del data['Q25_Part_6']\n",
    "del data['Q25_Part_7']\n",
    "del data['Q25_Part_8']\n"
   ]
  },
  {
   "cell_type": "markdown",
   "metadata": {},
   "source": [
    "### Which categories of computer vision methods do you use on a regular basis?"
   ]
  },
  {
   "cell_type": "code",
   "execution_count": 18,
   "metadata": {
    "collapsed": true
   },
   "outputs": [
    {
     "data": {
      "text/plain": [
       "1       1\n",
       "2       1\n",
       "3       0\n",
       "4       0\n",
       "5       0\n",
       "       ..\n",
       "3529    0\n",
       "3530    0\n",
       "3531    0\n",
       "3533    0\n",
       "3534    0\n",
       "Name: Q26_Part_1, Length: 3454, dtype: int64"
      ]
     },
     "execution_count": 18,
     "metadata": {},
     "output_type": "execute_result"
    },
    {
     "data": {
      "text/plain": [
       "1       0\n",
       "2       0\n",
       "3       0\n",
       "4       0\n",
       "5       0\n",
       "       ..\n",
       "3529    0\n",
       "3530    0\n",
       "3531    0\n",
       "3533    0\n",
       "3534    0\n",
       "Name: Q26_Part_2, Length: 3454, dtype: int64"
      ]
     },
     "execution_count": 18,
     "metadata": {},
     "output_type": "execute_result"
    },
    {
     "data": {
      "text/plain": [
       "1       0\n",
       "2       0\n",
       "3       0\n",
       "4       0\n",
       "5       0\n",
       "       ..\n",
       "3529    0\n",
       "3530    0\n",
       "3531    0\n",
       "3533    0\n",
       "3534    0\n",
       "Name: Q26_Part_3, Length: 3454, dtype: int64"
      ]
     },
     "execution_count": 18,
     "metadata": {},
     "output_type": "execute_result"
    },
    {
     "data": {
      "text/plain": [
       "1       1\n",
       "2       1\n",
       "3       0\n",
       "4       0\n",
       "5       0\n",
       "       ..\n",
       "3529    0\n",
       "3530    0\n",
       "3531    0\n",
       "3533    0\n",
       "3534    0\n",
       "Name: Q26_Part_4, Length: 3454, dtype: int64"
      ]
     },
     "execution_count": 18,
     "metadata": {},
     "output_type": "execute_result"
    },
    {
     "data": {
      "text/plain": [
       "1       0\n",
       "2       0\n",
       "3       0\n",
       "4       0\n",
       "5       0\n",
       "       ..\n",
       "3529    0\n",
       "3530    0\n",
       "3531    0\n",
       "3533    0\n",
       "3534    0\n",
       "Name: Q26_Part_5, Length: 3454, dtype: int64"
      ]
     },
     "execution_count": 18,
     "metadata": {},
     "output_type": "execute_result"
    }
   ],
   "source": [
    "# Which categories of computer vision methods do you use on a regular basis?\n",
    "data['Q26_Part_1'].fillna(0,inplace=True)\n",
    "data['Q26_Part_1'].replace('General purpose image/video tools (PIL, cv2, skimage, etc)',1)\n",
    "data['Q26_Part_1'] = data['Q26_Part_1'].astype('category')\n",
    "\n",
    "data['Q26_Part_2'].fillna(0,inplace=True)\n",
    "data['Q26_Part_2'].replace('Image segmentation methods (U-Net, Mask R-CNN, etc)',1)\n",
    "data['Q26_Part_2'] = data['Q26_Part_2'].astype('category')\n",
    "\n",
    "data['Q26_Part_3'].fillna(0,inplace=True)\n",
    "data['Q26_Part_3'].replace('Object detection methods (YOLOv3, RetinaNet, etc)',1)\n",
    "data['Q26_Part_3'] = data['Q26_Part_3'].astype('category')\n",
    "\n",
    "data['Q26_Part_4'].fillna(0,inplace=True)\n",
    "data['Q26_Part_4'].replace('Image classification and other general purpose networks (VGG, Inception, ResNet, ResNeXt, NASNet, EfficientNet, etc)',1)\n",
    "data['Q26_Part_4'] = data['Q26_Part_4'].astype('category')\n",
    "\n",
    "data['Q26_Part_5'].fillna(0,inplace=True)\n",
    "data['Q26_Part_5'].replace('Generative Networks (GAN, VAE, etc)',1)\n",
    "data['Q26_Part_5'] = data['Q26_Part_5'].astype('category')"
   ]
  },
  {
   "cell_type": "markdown",
   "metadata": {},
   "source": [
    "### Which of the following natural language processing (NLP) methods do you use on a regular basis?"
   ]
  },
  {
   "cell_type": "code",
   "execution_count": 19,
   "metadata": {
    "scrolled": true
   },
   "outputs": [
    {
     "data": {
      "text/plain": [
       "1       0\n",
       "2       0\n",
       "3       0\n",
       "4       0\n",
       "5       0\n",
       "       ..\n",
       "3529    0\n",
       "3530    0\n",
       "3531    0\n",
       "3533    0\n",
       "3534    0\n",
       "Name: Q27_Part_1, Length: 3454, dtype: int64"
      ]
     },
     "execution_count": 19,
     "metadata": {},
     "output_type": "execute_result"
    },
    {
     "data": {
      "text/plain": [
       "1       0\n",
       "2       0\n",
       "3       0\n",
       "4       0\n",
       "5       0\n",
       "       ..\n",
       "3529    0\n",
       "3530    0\n",
       "3531    0\n",
       "3533    0\n",
       "3534    0\n",
       "Name: Q27_Part_2, Length: 3454, dtype: int64"
      ]
     },
     "execution_count": 19,
     "metadata": {},
     "output_type": "execute_result"
    },
    {
     "data": {
      "text/plain": [
       "1       0\n",
       "2       0\n",
       "3       0\n",
       "4       0\n",
       "5       0\n",
       "       ..\n",
       "3529    0\n",
       "3530    0\n",
       "3531    0\n",
       "3533    0\n",
       "3534    0\n",
       "Name: Q27_Part_3, Length: 3454, dtype: int64"
      ]
     },
     "execution_count": 19,
     "metadata": {},
     "output_type": "execute_result"
    },
    {
     "data": {
      "text/plain": [
       "1       0\n",
       "2       0\n",
       "3       0\n",
       "4       0\n",
       "5       0\n",
       "       ..\n",
       "3529    0\n",
       "3530    0\n",
       "3531    0\n",
       "3533    0\n",
       "3534    0\n",
       "Name: Q27_Part_4, Length: 3454, dtype: int64"
      ]
     },
     "execution_count": 19,
     "metadata": {},
     "output_type": "execute_result"
    }
   ],
   "source": [
    "# Which of the following natural language processing (NLP) methods do you use on a regular basis?\n",
    "data['Q27_Part_1'].fillna(0,inplace=True)\n",
    "data['Q27_Part_1'].replace('Word embeddings/vectors (GLoVe, fastText, word2vec)',1)\n",
    "data['Q27_Part_1'] = data['Q27_Part_1'].astype('category')\n",
    "\n",
    "data['Q27_Part_2'].fillna(0,inplace=True)\n",
    "data['Q27_Part_2'].replace('Encoder-decorder models (seq2seq, vanilla transformers)',1)\n",
    "data['Q27_Part_2'] = data['Q27_Part_2'].astype('category')\n",
    "\n",
    "data['Q27_Part_3'].fillna(0,inplace=True)\n",
    "data['Q27_Part_3'].replace('Contextualized embeddings (ELMo, CoVe)',1)\n",
    "data['Q27_Part_3'] = data['Q27_Part_3'].astype('category')\n",
    "\n",
    "data['Q27_Part_4'].fillna(0,inplace=True)\n",
    "data['Q27_Part_4'].replace('Transformer language models (GPT-2, BERT, XLnet, etc)',1)\n",
    "data['Q27_Part_4'] = data['Q27_Part_4'].astype('category')\n"
   ]
  },
  {
   "cell_type": "markdown",
   "metadata": {},
   "source": [
    "### Which of the following machine learning frameworks do you use on a regular basis?  "
   ]
  },
  {
   "cell_type": "code",
   "execution_count": 20,
   "metadata": {},
   "outputs": [
    {
     "data": {
      "text/plain": [
       "1       1\n",
       "2       1\n",
       "3       1\n",
       "4       1\n",
       "5       1\n",
       "       ..\n",
       "3529    0\n",
       "3530    0\n",
       "3531    0\n",
       "3533    0\n",
       "3534    0\n",
       "Name: Q28_Part_1, Length: 3454, dtype: int64"
      ]
     },
     "execution_count": 20,
     "metadata": {},
     "output_type": "execute_result"
    },
    {
     "data": {
      "text/plain": [
       "1       1\n",
       "2       0\n",
       "3       0\n",
       "4       0\n",
       "5       1\n",
       "       ..\n",
       "3529    0\n",
       "3530    0\n",
       "3531    0\n",
       "3533    0\n",
       "3534    0\n",
       "Name: Q28_Part_2, Length: 3454, dtype: int64"
      ]
     },
     "execution_count": 20,
     "metadata": {},
     "output_type": "execute_result"
    },
    {
     "data": {
      "text/plain": [
       "1       1\n",
       "2       0\n",
       "3       0\n",
       "4       0\n",
       "5       1\n",
       "       ..\n",
       "3529    0\n",
       "3530    0\n",
       "3531    0\n",
       "3533    0\n",
       "3534    0\n",
       "Name: Q28_Part_3, Length: 3454, dtype: int64"
      ]
     },
     "execution_count": 20,
     "metadata": {},
     "output_type": "execute_result"
    },
    {
     "data": {
      "text/plain": [
       "1       0\n",
       "2       0\n",
       "3       1\n",
       "4       0\n",
       "5       0\n",
       "       ..\n",
       "3529    0\n",
       "3530    0\n",
       "3531    0\n",
       "3533    0\n",
       "3534    0\n",
       "Name: Q28_Part_4, Length: 3454, dtype: int64"
      ]
     },
     "execution_count": 20,
     "metadata": {},
     "output_type": "execute_result"
    },
    {
     "data": {
      "text/plain": [
       "1       0\n",
       "2       1\n",
       "3       0\n",
       "4       0\n",
       "5       0\n",
       "       ..\n",
       "3529    0\n",
       "3530    0\n",
       "3531    0\n",
       "3533    0\n",
       "3534    0\n",
       "Name: Q28_Part_5, Length: 3454, dtype: int64"
      ]
     },
     "execution_count": 20,
     "metadata": {},
     "output_type": "execute_result"
    },
    {
     "data": {
      "text/plain": [
       "1       0\n",
       "2       1\n",
       "3       0\n",
       "4       0\n",
       "5       0\n",
       "       ..\n",
       "3529    0\n",
       "3530    0\n",
       "3531    0\n",
       "3533    0\n",
       "3534    0\n",
       "Name: Q28_Part_6, Length: 3454, dtype: int64"
      ]
     },
     "execution_count": 20,
     "metadata": {},
     "output_type": "execute_result"
    },
    {
     "data": {
      "text/plain": [
       "1       0\n",
       "2       0\n",
       "3       0\n",
       "4       0\n",
       "5       0\n",
       "       ..\n",
       "3529    0\n",
       "3530    0\n",
       "3531    0\n",
       "3533    0\n",
       "3534    0\n",
       "Name: Q28_Part_7, Length: 3454, dtype: int64"
      ]
     },
     "execution_count": 20,
     "metadata": {},
     "output_type": "execute_result"
    },
    {
     "data": {
      "text/plain": [
       "1       0\n",
       "2       1\n",
       "3       0\n",
       "4       0\n",
       "5       0\n",
       "       ..\n",
       "3529    0\n",
       "3530    0\n",
       "3531    0\n",
       "3533    0\n",
       "3534    0\n",
       "Name: Q28_Part_8, Length: 3454, dtype: int64"
      ]
     },
     "execution_count": 20,
     "metadata": {},
     "output_type": "execute_result"
    },
    {
     "data": {
      "text/plain": [
       "1       1\n",
       "2       0\n",
       "3       0\n",
       "4       0\n",
       "5       0\n",
       "       ..\n",
       "3529    0\n",
       "3530    0\n",
       "3531    0\n",
       "3533    0\n",
       "3534    0\n",
       "Name: Q28_Part_9, Length: 3454, dtype: int64"
      ]
     },
     "execution_count": 20,
     "metadata": {},
     "output_type": "execute_result"
    },
    {
     "data": {
      "text/plain": [
       "1       0\n",
       "2       0\n",
       "3       0\n",
       "4       0\n",
       "5       0\n",
       "       ..\n",
       "3529    0\n",
       "3530    0\n",
       "3531    0\n",
       "3533    0\n",
       "3534    0\n",
       "Name: Q28_Part_10, Length: 3454, dtype: int64"
      ]
     },
     "execution_count": 20,
     "metadata": {},
     "output_type": "execute_result"
    }
   ],
   "source": [
    "# Which of the following machine learning frameworks do you use on a regular basis?  \n",
    "data['Q28_Part_1'].fillna(0,inplace=True)\n",
    "data['Q28_Part_1'].replace('  Scikit-learn ',1)\n",
    "data['Q28_Part_1'] = data['Q28_Part_1'].astype('category')\n",
    "\n",
    "data['Q28_Part_2'].fillna(0,inplace=True)\n",
    "data['Q28_Part_2'].replace('  TensorFlow ',1)\n",
    "data['Q28_Part_2'] = data['Q28_Part_2'].astype('category')\n",
    "\n",
    "data['Q28_Part_3'].fillna(0,inplace=True)\n",
    "data['Q28_Part_3'].replace(' Keras ',1)\n",
    "data['Q28_Part_3'] = data['Q28_Part_3'].astype('category')\n",
    "\n",
    "data['Q28_Part_4'].fillna(0,inplace=True)\n",
    "data['Q28_Part_4'].replace(' RandomForest',1)\n",
    "data['Q28_Part_4'] = data['Q28_Part_4'].astype('category')\n",
    "\n",
    "data['Q28_Part_5'].fillna(0,inplace=True)\n",
    "data['Q28_Part_5'].replace(' Xgboost ',1)\n",
    "data['Q28_Part_5'] = data['Q28_Part_5'].astype('category')\n",
    "\n",
    "data['Q28_Part_6'].fillna(0,inplace=True)\n",
    "data['Q28_Part_6'].replace(' PyTorch ',1)\n",
    "data['Q28_Part_6'] = data['Q28_Part_6'].astype('category')\n",
    "\n",
    "data['Q28_Part_7'].fillna(0,inplace=True)\n",
    "data['Q28_Part_7'].replace(' Caret ',1)\n",
    "data['Q28_Part_7'] = data['Q28_Part_7'].astype('category')\n",
    "\n",
    "data['Q28_Part_8'].fillna(0,inplace=True)\n",
    "data['Q28_Part_8'].replace(' LightGBM ',1)\n",
    "data['Q28_Part_8'] = data['Q28_Part_8'].astype('category')\n",
    "\n",
    "data['Q28_Part_9'].fillna(0,inplace=True)\n",
    "data['Q28_Part_9'].replace(' Spark MLib ',1)\n",
    "data['Q28_Part_9'] = data['Q28_Part_9'].astype('category')\n",
    "\n",
    "data['Q28_Part_10'].fillna(0,inplace=True)\n",
    "data['Q28_Part_10'].replace(' Fast.ai ',1)\n",
    "data['Q28_Part_10'] = data['Q28_Part_10'].astype('category')"
   ]
  },
  {
   "cell_type": "markdown",
   "metadata": {},
   "source": [
    "### Which of the following cloud computing platforms do you use on a regular basis?"
   ]
  },
  {
   "cell_type": "code",
   "execution_count": 21,
   "metadata": {},
   "outputs": [
    {
     "data": {
      "text/plain": [
       "1       0\n",
       "2       0\n",
       "3       0\n",
       "4       0\n",
       "5       0\n",
       "       ..\n",
       "3529    0\n",
       "3530    0\n",
       "3531    0\n",
       "3533    0\n",
       "3534    0\n",
       "Name: Q29_Part_1, Length: 3454, dtype: int64"
      ]
     },
     "execution_count": 21,
     "metadata": {},
     "output_type": "execute_result"
    },
    {
     "data": {
      "text/plain": [
       "1       0\n",
       "2       0\n",
       "3       0\n",
       "4       0\n",
       "5       0\n",
       "       ..\n",
       "3529    0\n",
       "3530    0\n",
       "3531    0\n",
       "3533    0\n",
       "3534    0\n",
       "Name: Q29_Part_2, Length: 3454, dtype: int64"
      ]
     },
     "execution_count": 21,
     "metadata": {},
     "output_type": "execute_result"
    },
    {
     "data": {
      "text/plain": [
       "1       0\n",
       "2       0\n",
       "3       0\n",
       "4       0\n",
       "5       0\n",
       "       ..\n",
       "3529    0\n",
       "3530    0\n",
       "3531    0\n",
       "3533    0\n",
       "3534    0\n",
       "Name: Q29_Part_3, Length: 3454, dtype: int64"
      ]
     },
     "execution_count": 21,
     "metadata": {},
     "output_type": "execute_result"
    }
   ],
   "source": [
    "# Which of the following cloud computing platforms do you use on a regular basis?\n",
    "data['Q29_Part_1'].fillna(0,inplace=True)\n",
    "data['Q29_Part_1'].replace(' Google Cloud Platform (GCP) ',1)\n",
    "data['Q29_Part_1'] = data['Q29_Part_1'].astype('category')\n",
    "\n",
    "data['Q29_Part_2'].fillna(0,inplace=True)\n",
    "data['Q29_Part_2'].replace(' Amazon Web Services (AWS) ',1)\n",
    "data['Q29_Part_2'] = data['Q29_Part_2'].astype('category')\n",
    "\n",
    "data['Q29_Part_3'].fillna(0,inplace=True)\n",
    "data['Q29_Part_3'].replace(' Microsoft Azure ',1)\n",
    "data['Q29_Part_3'] = data['Q29_Part_3'].astype('category')\n",
    "\n",
    "del data['Q29_Part_4']\n",
    "del data['Q29_Part_5']\n",
    "del data['Q29_Part_6']\n",
    "del data['Q29_Part_7']\n",
    "del data['Q29_Part_8']\n",
    "del data['Q29_Part_9']\n",
    "del data['Q29_Part_10']"
   ]
  },
  {
   "cell_type": "markdown",
   "metadata": {},
   "source": [
    "### Which of the following relational database products do you use on a regular basis? "
   ]
  },
  {
   "cell_type": "code",
   "execution_count": 22,
   "metadata": {},
   "outputs": [
    {
     "data": {
      "text/plain": [
       "1       0\n",
       "2       0\n",
       "3       0\n",
       "4       0\n",
       "5       0\n",
       "       ..\n",
       "3529    0\n",
       "3530    0\n",
       "3531    0\n",
       "3533    0\n",
       "3534    0\n",
       "Name: Q34_Part_1, Length: 3454, dtype: int64"
      ]
     },
     "execution_count": 22,
     "metadata": {},
     "output_type": "execute_result"
    },
    {
     "data": {
      "text/plain": [
       "1       0\n",
       "2       0\n",
       "3       0\n",
       "4       0\n",
       "5       0\n",
       "       ..\n",
       "3529    0\n",
       "3530    0\n",
       "3531    0\n",
       "3533    0\n",
       "3534    0\n",
       "Name: Q34_Part_2, Length: 3454, dtype: int64"
      ]
     },
     "execution_count": 22,
     "metadata": {},
     "output_type": "execute_result"
    },
    {
     "data": {
      "text/plain": [
       "1       0\n",
       "2       0\n",
       "3       0\n",
       "4       0\n",
       "5       0\n",
       "       ..\n",
       "3529    0\n",
       "3530    0\n",
       "3531    0\n",
       "3533    0\n",
       "3534    0\n",
       "Name: Q34_Part_3, Length: 3454, dtype: int64"
      ]
     },
     "execution_count": 22,
     "metadata": {},
     "output_type": "execute_result"
    },
    {
     "data": {
      "text/plain": [
       "1       0\n",
       "2       0\n",
       "3       0\n",
       "4       1\n",
       "5       0\n",
       "       ..\n",
       "3529    0\n",
       "3530    0\n",
       "3531    0\n",
       "3533    0\n",
       "3534    0\n",
       "Name: Q34_Part_4, Length: 3454, dtype: int64"
      ]
     },
     "execution_count": 22,
     "metadata": {},
     "output_type": "execute_result"
    },
    {
     "data": {
      "text/plain": [
       "1       0\n",
       "2       0\n",
       "3       0\n",
       "4       0\n",
       "5       0\n",
       "       ..\n",
       "3529    0\n",
       "3530    0\n",
       "3531    0\n",
       "3533    0\n",
       "3534    0\n",
       "Name: Q34_Part_5, Length: 3454, dtype: int64"
      ]
     },
     "execution_count": 22,
     "metadata": {},
     "output_type": "execute_result"
    },
    {
     "data": {
      "text/plain": [
       "1       0\n",
       "2       0\n",
       "3       0\n",
       "4       0\n",
       "5       0\n",
       "       ..\n",
       "3529    0\n",
       "3530    0\n",
       "3531    0\n",
       "3533    0\n",
       "3534    0\n",
       "Name: Q34_Part_6, Length: 3454, dtype: int64"
      ]
     },
     "execution_count": 22,
     "metadata": {},
     "output_type": "execute_result"
    },
    {
     "data": {
      "text/plain": [
       "1       0\n",
       "2       0\n",
       "3       0\n",
       "4       0\n",
       "5       0\n",
       "       ..\n",
       "3529    0\n",
       "3530    0\n",
       "3531    0\n",
       "3533    0\n",
       "3534    0\n",
       "Name: Q34_Part_7, Length: 3454, dtype: int64"
      ]
     },
     "execution_count": 22,
     "metadata": {},
     "output_type": "execute_result"
    },
    {
     "data": {
      "text/plain": [
       "1       0\n",
       "2       0\n",
       "3       0\n",
       "4       0\n",
       "5       0\n",
       "       ..\n",
       "3529    0\n",
       "3530    0\n",
       "3531    0\n",
       "3533    0\n",
       "3534    0\n",
       "Name: Q34_Part_8, Length: 3454, dtype: int64"
      ]
     },
     "execution_count": 22,
     "metadata": {},
     "output_type": "execute_result"
    },
    {
     "data": {
      "text/plain": [
       "1       0\n",
       "2       0\n",
       "3       0\n",
       "4       0\n",
       "5       0\n",
       "       ..\n",
       "3529    0\n",
       "3530    0\n",
       "3531    0\n",
       "3533    0\n",
       "3534    0\n",
       "Name: Q34_Part_9, Length: 3454, dtype: int64"
      ]
     },
     "execution_count": 22,
     "metadata": {},
     "output_type": "execute_result"
    },
    {
     "data": {
      "text/plain": [
       "1       0\n",
       "2       0\n",
       "3       0\n",
       "4       0\n",
       "5       0\n",
       "       ..\n",
       "3529    0\n",
       "3530    0\n",
       "3531    0\n",
       "3533    0\n",
       "3534    0\n",
       "Name: Q34_Part_10, Length: 3454, dtype: int64"
      ]
     },
     "execution_count": 22,
     "metadata": {},
     "output_type": "execute_result"
    }
   ],
   "source": [
    "# Which of the following relational database products do you use on a regular basis? \n",
    "data['Q34_Part_1'].fillna(0,inplace=True)\n",
    "data['Q34_Part_1'].replace('MySQL',1)\n",
    "data['Q34_Part_1'] = data['Q34_Part_1'].astype('category')\n",
    "\n",
    "data['Q34_Part_2'].fillna(0,inplace=True)\n",
    "data['Q34_Part_2'].replace('PostgresSQL',1)\n",
    "data['Q34_Part_2'] = data['Q34_Part_2'].astype('category')\n",
    "\n",
    "data['Q34_Part_3'].fillna(0,inplace=True)\n",
    "data['Q34_Part_3'].replace('SQLite',1)\n",
    "data['Q34_Part_3'] = data['Q34_Part_3'].astype('category')\n",
    "\n",
    "data['Q34_Part_4'].fillna(0,inplace=True)\n",
    "data['Q34_Part_4'].replace('Microsoft SQL Server',1)\n",
    "data['Q34_Part_4'] = data['Q34_Part_4'].astype('category')\n",
    "\n",
    "data['Q34_Part_5'].fillna(0,inplace=True)\n",
    "data['Q34_Part_5'].replace('Oracle Database',1)\n",
    "data['Q34_Part_5'] = data['Q34_Part_5'].astype('category')\n",
    "\n",
    "data['Q34_Part_6'].fillna(0,inplace=True)\n",
    "data['Q34_Part_6'].replace('Microsoft Access',1)\n",
    "data['Q34_Part_6'] = data['Q34_Part_6'].astype('category')\n",
    "\n",
    "data['Q34_Part_7'].fillna(0,inplace=True)\n",
    "data['Q34_Part_7'].replace('AWS Relational Database Service',1)\n",
    "data['Q34_Part_7'] = data['Q34_Part_7'].astype('category')\n",
    "\n",
    "data['Q34_Part_8'].fillna(0,inplace=True)\n",
    "data['Q34_Part_8'].replace('AWS DynamoDB',1)\n",
    "data['Q34_Part_8'] = data['Q34_Part_8'].astype('category')\n",
    "\n",
    "data['Q34_Part_9'].fillna(0,inplace=True)\n",
    "data['Q34_Part_9'].replace('Azure SQL Database',1)\n",
    "data['Q34_Part_9'] = data['Q34_Part_9'].astype('category')\n",
    "\n",
    "data['Q34_Part_10'].fillna(0,inplace=True)\n",
    "data['Q34_Part_10'].replace('Google Cloud SQL',1)\n",
    "data['Q34_Part_10'] = data['Q34_Part_10'].astype('category')"
   ]
  },
  {
   "cell_type": "markdown",
   "metadata": {},
   "source": [
    "## Check value and data type in each columns"
   ]
  },
  {
   "cell_type": "code",
   "execution_count": 23,
   "metadata": {
    "scrolled": true
   },
   "outputs": [
    {
     "name": "stdout",
     "output_type": "stream",
     "text": [
      "[22-24, 30-34, 50-54, 35-39, 25-29, ..., 55-59, 45-49, 40-44, 18-21, 70+]\n",
      "Length: 11\n",
      "Categories (11, object): [22-24, 30-34, 50-54, 35-39, ..., 45-49, 40-44, 18-21, 70+]\n",
      "[Female, Male, Prefer not to say, Prefer to self-describe]\n",
      "Categories (4, object): [Female, Male, Prefer not to say, Prefer to self-describe]\n",
      "[United States of America, Canada]\n",
      "Categories (2, object): [United States of America, Canada]\n",
      "[Bachelors degree, Masters degree, Doctoral degree, I prefer not to answer, Professional degree, Some college/university study without earning ..., No formal education past high school]\n",
      "Categories (7, object): [Bachelors degree, Masters degree, Doctoral degree, I prefer not to answer, Professional degree, Some college/university study without earning ..., No formal education past high school]\n",
      "['Data Scientist' 'Student' 'Product/Project Manager' 'Data Analyst'\n",
      " 'Other' 'Research Scientist' 'Data Engineer' 'Business Analyst'\n",
      " 'Software Engineer' 'Statistician' 'Not employed' 'DBA/Database Engineer']\n",
      "[> 10,000 employees, Not employed, 50-249 employees, 250-999 employees, 1000-9,999 employees, 0-49 employees]\n",
      "Categories (6, object): [> 10,000 employees, Not employed, 50-249 employees, 250-999 employees, 1000-9,999 employees, 0-49 employees]\n",
      "[3 0 2 4 1]\n",
      "[True, False]\n",
      "Categories (2, object): [True, False]\n",
      "[False, True]\n",
      "Categories (2, object): [False, True]\n",
      "[True, False]\n",
      "Categories (2, object): [True, False]\n",
      "[True, False]\n",
      "Categories (2, object): [True, False]\n",
      "[False, True]\n",
      "Categories (2, object): [False, True]\n",
      "[False, True]\n",
      "Categories (2, object): [False, True]\n",
      "[False, True]\n",
      "Categories (2, object): [False, True]\n",
      "[80,000-89,999, 0-999, 90,000-99,999, 125,000-149,999, 150,000-199,999, ..., 3,000-3,999, 15,000-19,999, 5,000-7,499, 4,000-4,999, 2,000-2,999]\n",
      "Length: 25\n",
      "Categories (25, object): [80,000-89,999, 0-999, 90,000-99,999, 125,000-149,999, ..., 15,000-19,999, 5,000-7,499, 4,000-4,999, 2,000-2,999]\n",
      "[$0 (USD), > $100,000 ($USD), $1-$99, $100-$999, $1000-$9,999, $10,000-$99,999]\n",
      "Categories (6, object): [$0 (USD), > $100,000 ($USD), $1-$99, $100-$999, $1000-$9,999, $10,000-$99,999]\n",
      "[0, Udacity]\n",
      "Categories (2, object): [0, Udacity]\n",
      "[0, Coursera]\n",
      "Categories (2, object): [0, Coursera]\n",
      "[0, edX]\n",
      "Categories (2, object): [0, edX]\n",
      "[0, DataCamp]\n",
      "Categories (2, object): [0, DataCamp]\n",
      "[0, DataQuest]\n",
      "Categories (2, object): [0, DataQuest]\n",
      "[0, Kaggle Courses (i.e. Kaggle Learn)]\n",
      "Categories (2, object): [0, Kaggle Courses (i.e. Kaggle Learn)]\n",
      "[0, Fast.ai]\n",
      "Categories (2, object): [0, Fast.ai]\n",
      "[Udemy, 0]\n",
      "Categories (2, object): [Udemy, 0]\n",
      "[0, LinkedIn Learning]\n",
      "Categories (2, object): [0, LinkedIn Learning]\n",
      "[University Courses (resulting in a university ..., 0]\n",
      "Categories (2, object): [University Courses (resulting in a university ..., 0]\n",
      "[Local development environments (RStudio, Jupyt..., Basic statistical software (Microsoft Excel, G..., Cloud-based data software & APIs (AWS, GCP, Az..., Advanced statistical software (SPSS, SAS, etc.), Other, Business intelligence software (Salesforce, Ta...]\n",
      "Categories (6, object): [Local development environments (RStudio, Jupyt..., Basic statistical software (Microsoft Excel, G..., Cloud-based data software & APIs (AWS, GCP, Az..., Advanced statistical software (SPSS, SAS, etc.), Other, Business intelligence software (Salesforce, Ta...]\n",
      "[3-5 years, 10-20 years, 5-10 years, 1-2 years, < 1 years, I have never written code, 20+ years]\n",
      "Categories (7, object): [3-5 years, 10-20 years, 5-10 years, 1-2 years, < 1 years, I have never written code, 20+ years]\n",
      "[Jupyter (JupyterLab, Jupyter Notebooks, etc), 0]\n",
      "Categories (2, object): [Jupyter (JupyterLab, Jupyter Notebooks, etc), 0]\n",
      "[0, RStudio]\n",
      "Categories (2, object): [0, RStudio]\n",
      "[0, PyCharm]\n",
      "Categories (2, object): [0, PyCharm]\n",
      "[0, Atom]\n",
      "Categories (2, object): [0, Atom]\n",
      "[0, MATLAB]\n",
      "Categories (2, object): [0, MATLAB]\n",
      "[0, Visual Studio / Visual Studio Code]\n",
      "Categories (2, object): [0, Visual Studio / Visual Studio Code]\n",
      "[Spyder, 0]\n",
      "Categories (2, object): [Spyder, 0]\n",
      "[0, Vim / Emacs]\n",
      "Categories (2, object): [0, Vim / Emacs]\n",
      "[0, Notepad++]\n",
      "Categories (2, object): [0, Notepad++]\n",
      "[0, Sublime Text]\n",
      "Categories (2, object): [0, Sublime Text]\n",
      "[Python, 0]\n",
      "Categories (2, object): [Python, 0]\n",
      "[0, R]\n",
      "Categories (2, object): [0, R]\n",
      "[0, SQL]\n",
      "Categories (2, object): [0, SQL]\n",
      "[0, C]\n",
      "Categories (2, object): [0, C]\n",
      "[0, C++]\n",
      "Categories (2, object): [0, C++]\n",
      "[0, Java]\n",
      "Categories (2, object): [0, Java]\n",
      "[0, Javascript]\n",
      "Categories (2, object): [0, Javascript]\n",
      "[0, TypeScript]\n",
      "Categories (2, object): [0, TypeScript]\n",
      "[0, Bash]\n",
      "Categories (2, object): [0, Bash]\n",
      "[0, MATLAB]\n",
      "Categories (2, object): [0, MATLAB]\n",
      "[0, Ggplot / ggplot2]\n",
      "Categories (2, object): [0, Ggplot / ggplot2]\n",
      "[Matplotlib, 0]\n",
      "Categories (2, object): [Matplotlib, 0]\n",
      "[0, Altair]\n",
      "Categories (2, object): [0, Altair]\n",
      "[0, Shiny]\n",
      "Categories (2, object): [0, Shiny]\n",
      "[0, D3.js]\n",
      "Categories (2, object): [0, D3.js]\n",
      "[Plotly / Plotly Express, 0]\n",
      "Categories (2, object): [Plotly / Plotly Express, 0]\n",
      "[0, Bokeh]\n",
      "Categories (2, object): [0, Bokeh]\n",
      "[0, Seaborn]\n",
      "Categories (2, object): [0, Seaborn]\n",
      "[0, Geoplotlib]\n",
      "Categories (2, object): [0, Geoplotlib]\n",
      "[0, Leaflet / Folium]\n",
      "Categories (2, object): [0, Leaflet / Folium]\n",
      "[3-4 years, 1-2 years, 2-3 years, 5-10 years, 4-5 years, 10-15 years, < 1 years, 20+ years]\n",
      "Categories (8, object): [3-4 years, 1-2 years, 2-3 years, 5-10 years, 4-5 years, 10-15 years, < 1 years, 20+ years]\n",
      "[Linear or Logistic Regression, 0]\n",
      "Categories (2, object): [Linear or Logistic Regression, 0]\n",
      "[Decision Trees or Random Forests, 0]\n",
      "Categories (2, object): [Decision Trees or Random Forests, 0]\n",
      "[0, Gradient Boosting Machines (xgboost, lightgbm,...]\n",
      "Categories (2, object): [0, Gradient Boosting Machines (xgboost, lightgbm,...]\n",
      "[0, Bayesian Approaches]\n",
      "Categories (2, object): [0, Bayesian Approaches]\n",
      "[0, Evolutionary Approaches]\n",
      "Categories (2, object): [0, Evolutionary Approaches]\n",
      "[0, Dense Neural Networks (MLPs, etc)]\n",
      "Categories (2, object): [0, Dense Neural Networks (MLPs, etc)]\n",
      "[Convolutional Neural Networks, 0]\n",
      "Categories (2, object): [Convolutional Neural Networks, 0]\n",
      "[0, Generative Adversarial Networks]\n",
      "Categories (2, object): [0, Generative Adversarial Networks]\n",
      "[0, Recurrent Neural Networks]\n",
      "Categories (2, object): [0, Recurrent Neural Networks]\n",
      "[0, Transformer Networks (BERT, gpt-2, etc)]\n",
      "Categories (2, object): [0, Transformer Networks (BERT, gpt-2, etc)]\n",
      "[General purpose image/video tools (PIL, cv2, s..., 0]\n",
      "Categories (2, object): [General purpose image/video tools (PIL, cv2, s..., 0]\n",
      "[0, Image segmentation methods (U-Net, Mask R-CNN,...]\n",
      "Categories (2, object): [0, Image segmentation methods (U-Net, Mask R-CNN,...]\n",
      "[0, Object detection methods (YOLOv3, RetinaNet, etc)]\n",
      "Categories (2, object): [0, Object detection methods (YOLOv3, RetinaNet, etc)]\n",
      "[Image classification and other general purpose..., 0]\n",
      "Categories (2, object): [Image classification and other general purpose..., 0]\n",
      "[0, Generative Networks (GAN, VAE, etc)]\n",
      "Categories (2, object): [0, Generative Networks (GAN, VAE, etc)]\n",
      "[0, Word embeddings/vectors (GLoVe, fastText, word...]\n",
      "Categories (2, object): [0, Word embeddings/vectors (GLoVe, fastText, word...]\n",
      "[0, Encoder-decorder models (seq2seq, vanilla tran...]\n",
      "Categories (2, object): [0, Encoder-decorder models (seq2seq, vanilla tran...]\n",
      "[0, Contextualized embeddings (ELMo, CoVe)]\n",
      "Categories (2, object): [0, Contextualized embeddings (ELMo, CoVe)]\n",
      "[0, Transformer language models (GPT-2, BERT, XLne...]\n",
      "Categories (2, object): [0, Transformer language models (GPT-2, BERT, XLne...]\n",
      "[Scikit-learn, 0]\n",
      "Categories (2, object): [Scikit-learn, 0]\n",
      "[TensorFlow, 0]\n",
      "Categories (2, object): [TensorFlow, 0]\n",
      "[Keras, 0]\n",
      "Categories (2, object): [Keras, 0]\n",
      "[0, RandomForest]\n",
      "Categories (2, object): [0, RandomForest]\n",
      "[0, Xgboost]\n",
      "Categories (2, object): [0, Xgboost]\n",
      "[0, PyTorch]\n",
      "Categories (2, object): [0, PyTorch]\n",
      "[0, Caret]\n",
      "Categories (2, object): [0, Caret]\n",
      "[0, LightGBM]\n",
      "Categories (2, object): [0, LightGBM]\n",
      "[Spark MLib, 0]\n",
      "Categories (2, object): [Spark MLib, 0]\n",
      "[0, Fast.ai]\n",
      "Categories (2, object): [0, Fast.ai]\n",
      "[0, Google Cloud Platform (GCP)]\n",
      "Categories (2, object): [0, Google Cloud Platform (GCP)]\n",
      "[0, Amazon Web Services (AWS)]\n",
      "Categories (2, object): [0, Amazon Web Services (AWS)]\n",
      "[0, Microsoft Azure]\n",
      "Categories (2, object): [0, Microsoft Azure]\n",
      "[0, MySQL]\n",
      "Categories (2, object): [0, MySQL]\n",
      "[0, PostgresSQL]\n",
      "Categories (2, object): [0, PostgresSQL]\n",
      "[0, SQLite]\n",
      "Categories (2, object): [0, SQLite]\n",
      "[0, Microsoft SQL Server]\n",
      "Categories (2, object): [0, Microsoft SQL Server]\n",
      "[0, Oracle Database]\n",
      "Categories (2, object): [0, Oracle Database]\n",
      "[0, Microsoft Access]\n",
      "Categories (2, object): [0, Microsoft Access]\n",
      "[0, AWS Relational Database Service]\n",
      "Categories (2, object): [0, AWS Relational Database Service]\n",
      "[0, AWS DynamoDB]\n",
      "Categories (2, object): [0, AWS DynamoDB]\n",
      "[0, Azure SQL Database]\n",
      "Categories (2, object): [0, Azure SQL Database]\n",
      "[0, Google Cloud SQL]\n",
      "Categories (2, object): [0, Google Cloud SQL]\n"
     ]
    }
   ],
   "source": [
    "for col in data:\n",
    "    print(pd.unique(data[col]))"
   ]
  },
  {
   "cell_type": "code",
   "execution_count": 25,
   "metadata": {
    "scrolled": false
   },
   "outputs": [
    {
     "data": {
      "text/plain": [
       "(3454, 101)"
      ]
     },
     "execution_count": 25,
     "metadata": {},
     "output_type": "execute_result"
    }
   ],
   "source": [
    "data.shape"
   ]
  },
  {
   "cell_type": "code",
   "execution_count": 28,
   "metadata": {
    "scrolled": true
   },
   "outputs": [
    {
     "data": {
      "text/html": [
       "<div>\n",
       "<style scoped>\n",
       "    .dataframe tbody tr th:only-of-type {\n",
       "        vertical-align: middle;\n",
       "    }\n",
       "\n",
       "    .dataframe tbody tr th {\n",
       "        vertical-align: top;\n",
       "    }\n",
       "\n",
       "    .dataframe thead th {\n",
       "        text-align: right;\n",
       "    }\n",
       "</style>\n",
       "<table border=\"1\" class=\"dataframe\">\n",
       "  <thead>\n",
       "    <tr style=\"text-align: right;\">\n",
       "      <th></th>\n",
       "      <th>Q1</th>\n",
       "      <th>Q2</th>\n",
       "      <th>Q3</th>\n",
       "      <th>Q4</th>\n",
       "      <th>Q5</th>\n",
       "      <th>Q6</th>\n",
       "      <th>Q8</th>\n",
       "      <th>Q9_Part_1</th>\n",
       "      <th>Q9_Part_2</th>\n",
       "      <th>Q9_Part_3</th>\n",
       "      <th>...</th>\n",
       "      <th>Q34_Part_1</th>\n",
       "      <th>Q34_Part_2</th>\n",
       "      <th>Q34_Part_3</th>\n",
       "      <th>Q34_Part_4</th>\n",
       "      <th>Q34_Part_5</th>\n",
       "      <th>Q34_Part_6</th>\n",
       "      <th>Q34_Part_7</th>\n",
       "      <th>Q34_Part_8</th>\n",
       "      <th>Q34_Part_9</th>\n",
       "      <th>Q34_Part_10</th>\n",
       "    </tr>\n",
       "  </thead>\n",
       "  <tbody>\n",
       "    <tr>\n",
       "      <th>1</th>\n",
       "      <td>22-24</td>\n",
       "      <td>Female</td>\n",
       "      <td>United States of America</td>\n",
       "      <td>Bachelors degree</td>\n",
       "      <td>Data Scientist</td>\n",
       "      <td>&gt; 10,000 employees</td>\n",
       "      <td>3</td>\n",
       "      <td>True</td>\n",
       "      <td>False</td>\n",
       "      <td>True</td>\n",
       "      <td>...</td>\n",
       "      <td>0</td>\n",
       "      <td>0</td>\n",
       "      <td>0</td>\n",
       "      <td>0</td>\n",
       "      <td>0</td>\n",
       "      <td>0</td>\n",
       "      <td>0</td>\n",
       "      <td>0</td>\n",
       "      <td>0</td>\n",
       "      <td>0</td>\n",
       "    </tr>\n",
       "    <tr>\n",
       "      <th>2</th>\n",
       "      <td>22-24</td>\n",
       "      <td>Male</td>\n",
       "      <td>United States of America</td>\n",
       "      <td>Bachelors degree</td>\n",
       "      <td>Student</td>\n",
       "      <td>Not employed</td>\n",
       "      <td>0</td>\n",
       "      <td>False</td>\n",
       "      <td>False</td>\n",
       "      <td>False</td>\n",
       "      <td>...</td>\n",
       "      <td>0</td>\n",
       "      <td>0</td>\n",
       "      <td>0</td>\n",
       "      <td>0</td>\n",
       "      <td>0</td>\n",
       "      <td>0</td>\n",
       "      <td>0</td>\n",
       "      <td>0</td>\n",
       "      <td>0</td>\n",
       "      <td>0</td>\n",
       "    </tr>\n",
       "    <tr>\n",
       "      <th>3</th>\n",
       "      <td>30-34</td>\n",
       "      <td>Male</td>\n",
       "      <td>United States of America</td>\n",
       "      <td>Masters degree</td>\n",
       "      <td>Product/Project Manager</td>\n",
       "      <td>&gt; 10,000 employees</td>\n",
       "      <td>0</td>\n",
       "      <td>False</td>\n",
       "      <td>False</td>\n",
       "      <td>False</td>\n",
       "      <td>...</td>\n",
       "      <td>0</td>\n",
       "      <td>0</td>\n",
       "      <td>0</td>\n",
       "      <td>0</td>\n",
       "      <td>0</td>\n",
       "      <td>0</td>\n",
       "      <td>0</td>\n",
       "      <td>0</td>\n",
       "      <td>0</td>\n",
       "      <td>0</td>\n",
       "    </tr>\n",
       "    <tr>\n",
       "      <th>4</th>\n",
       "      <td>50-54</td>\n",
       "      <td>Female</td>\n",
       "      <td>United States of America</td>\n",
       "      <td>Masters degree</td>\n",
       "      <td>Data Analyst</td>\n",
       "      <td>50-249 employees</td>\n",
       "      <td>2</td>\n",
       "      <td>True</td>\n",
       "      <td>True</td>\n",
       "      <td>False</td>\n",
       "      <td>...</td>\n",
       "      <td>0</td>\n",
       "      <td>0</td>\n",
       "      <td>0</td>\n",
       "      <td>Microsoft SQL Server</td>\n",
       "      <td>0</td>\n",
       "      <td>0</td>\n",
       "      <td>0</td>\n",
       "      <td>0</td>\n",
       "      <td>0</td>\n",
       "      <td>0</td>\n",
       "    </tr>\n",
       "    <tr>\n",
       "      <th>5</th>\n",
       "      <td>35-39</td>\n",
       "      <td>Male</td>\n",
       "      <td>United States of America</td>\n",
       "      <td>Bachelors degree</td>\n",
       "      <td>Other</td>\n",
       "      <td>250-999 employees</td>\n",
       "      <td>4</td>\n",
       "      <td>True</td>\n",
       "      <td>False</td>\n",
       "      <td>False</td>\n",
       "      <td>...</td>\n",
       "      <td>0</td>\n",
       "      <td>0</td>\n",
       "      <td>0</td>\n",
       "      <td>0</td>\n",
       "      <td>0</td>\n",
       "      <td>0</td>\n",
       "      <td>0</td>\n",
       "      <td>0</td>\n",
       "      <td>0</td>\n",
       "      <td>0</td>\n",
       "    </tr>\n",
       "    <tr>\n",
       "      <th>...</th>\n",
       "      <td>...</td>\n",
       "      <td>...</td>\n",
       "      <td>...</td>\n",
       "      <td>...</td>\n",
       "      <td>...</td>\n",
       "      <td>...</td>\n",
       "      <td>...</td>\n",
       "      <td>...</td>\n",
       "      <td>...</td>\n",
       "      <td>...</td>\n",
       "      <td>...</td>\n",
       "      <td>...</td>\n",
       "      <td>...</td>\n",
       "      <td>...</td>\n",
       "      <td>...</td>\n",
       "      <td>...</td>\n",
       "      <td>...</td>\n",
       "      <td>...</td>\n",
       "      <td>...</td>\n",
       "      <td>...</td>\n",
       "      <td>...</td>\n",
       "    </tr>\n",
       "    <tr>\n",
       "      <th>3529</th>\n",
       "      <td>25-29</td>\n",
       "      <td>Male</td>\n",
       "      <td>United States of America</td>\n",
       "      <td>Masters degree</td>\n",
       "      <td>Student</td>\n",
       "      <td>Not employed</td>\n",
       "      <td>0</td>\n",
       "      <td>False</td>\n",
       "      <td>False</td>\n",
       "      <td>False</td>\n",
       "      <td>...</td>\n",
       "      <td>0</td>\n",
       "      <td>0</td>\n",
       "      <td>0</td>\n",
       "      <td>0</td>\n",
       "      <td>0</td>\n",
       "      <td>0</td>\n",
       "      <td>0</td>\n",
       "      <td>0</td>\n",
       "      <td>0</td>\n",
       "      <td>0</td>\n",
       "    </tr>\n",
       "    <tr>\n",
       "      <th>3530</th>\n",
       "      <td>18-21</td>\n",
       "      <td>Male</td>\n",
       "      <td>United States of America</td>\n",
       "      <td>Masters degree</td>\n",
       "      <td>Student</td>\n",
       "      <td>Not employed</td>\n",
       "      <td>0</td>\n",
       "      <td>False</td>\n",
       "      <td>False</td>\n",
       "      <td>False</td>\n",
       "      <td>...</td>\n",
       "      <td>0</td>\n",
       "      <td>0</td>\n",
       "      <td>0</td>\n",
       "      <td>0</td>\n",
       "      <td>0</td>\n",
       "      <td>0</td>\n",
       "      <td>0</td>\n",
       "      <td>0</td>\n",
       "      <td>0</td>\n",
       "      <td>0</td>\n",
       "    </tr>\n",
       "    <tr>\n",
       "      <th>3531</th>\n",
       "      <td>25-29</td>\n",
       "      <td>Female</td>\n",
       "      <td>United States of America</td>\n",
       "      <td>Masters degree</td>\n",
       "      <td>Student</td>\n",
       "      <td>Not employed</td>\n",
       "      <td>0</td>\n",
       "      <td>False</td>\n",
       "      <td>False</td>\n",
       "      <td>False</td>\n",
       "      <td>...</td>\n",
       "      <td>0</td>\n",
       "      <td>0</td>\n",
       "      <td>0</td>\n",
       "      <td>0</td>\n",
       "      <td>0</td>\n",
       "      <td>0</td>\n",
       "      <td>0</td>\n",
       "      <td>0</td>\n",
       "      <td>0</td>\n",
       "      <td>0</td>\n",
       "    </tr>\n",
       "    <tr>\n",
       "      <th>3533</th>\n",
       "      <td>22-24</td>\n",
       "      <td>Female</td>\n",
       "      <td>Canada</td>\n",
       "      <td>Masters degree</td>\n",
       "      <td>Research Scientist</td>\n",
       "      <td>0-49 employees</td>\n",
       "      <td>1</td>\n",
       "      <td>False</td>\n",
       "      <td>False</td>\n",
       "      <td>False</td>\n",
       "      <td>...</td>\n",
       "      <td>0</td>\n",
       "      <td>0</td>\n",
       "      <td>0</td>\n",
       "      <td>0</td>\n",
       "      <td>0</td>\n",
       "      <td>0</td>\n",
       "      <td>0</td>\n",
       "      <td>0</td>\n",
       "      <td>0</td>\n",
       "      <td>0</td>\n",
       "    </tr>\n",
       "    <tr>\n",
       "      <th>3534</th>\n",
       "      <td>25-29</td>\n",
       "      <td>Male</td>\n",
       "      <td>United States of America</td>\n",
       "      <td>Bachelors degree</td>\n",
       "      <td>Other</td>\n",
       "      <td>1000-9,999 employees</td>\n",
       "      <td>0</td>\n",
       "      <td>False</td>\n",
       "      <td>False</td>\n",
       "      <td>False</td>\n",
       "      <td>...</td>\n",
       "      <td>0</td>\n",
       "      <td>0</td>\n",
       "      <td>0</td>\n",
       "      <td>0</td>\n",
       "      <td>0</td>\n",
       "      <td>0</td>\n",
       "      <td>0</td>\n",
       "      <td>0</td>\n",
       "      <td>0</td>\n",
       "      <td>0</td>\n",
       "    </tr>\n",
       "  </tbody>\n",
       "</table>\n",
       "<p>3454 rows × 101 columns</p>\n",
       "</div>"
      ],
      "text/plain": [
       "         Q1      Q2                        Q3                Q4  \\\n",
       "1     22-24  Female  United States of America  Bachelors degree   \n",
       "2     22-24    Male  United States of America  Bachelors degree   \n",
       "3     30-34    Male  United States of America    Masters degree   \n",
       "4     50-54  Female  United States of America    Masters degree   \n",
       "5     35-39    Male  United States of America  Bachelors degree   \n",
       "...     ...     ...                       ...               ...   \n",
       "3529  25-29    Male  United States of America    Masters degree   \n",
       "3530  18-21    Male  United States of America    Masters degree   \n",
       "3531  25-29  Female  United States of America    Masters degree   \n",
       "3533  22-24  Female                    Canada    Masters degree   \n",
       "3534  25-29    Male  United States of America  Bachelors degree   \n",
       "\n",
       "                           Q5                    Q6  Q8 Q9_Part_1 Q9_Part_2  \\\n",
       "1              Data Scientist    > 10,000 employees   3      True     False   \n",
       "2                     Student          Not employed   0     False     False   \n",
       "3     Product/Project Manager    > 10,000 employees   0     False     False   \n",
       "4                Data Analyst      50-249 employees   2      True      True   \n",
       "5                       Other     250-999 employees   4      True     False   \n",
       "...                       ...                   ...  ..       ...       ...   \n",
       "3529                  Student          Not employed   0     False     False   \n",
       "3530                  Student          Not employed   0     False     False   \n",
       "3531                  Student          Not employed   0     False     False   \n",
       "3533       Research Scientist        0-49 employees   1     False     False   \n",
       "3534                    Other  1000-9,999 employees   0     False     False   \n",
       "\n",
       "     Q9_Part_3  ... Q34_Part_1 Q34_Part_2 Q34_Part_3            Q34_Part_4  \\\n",
       "1         True  ...          0          0          0                     0   \n",
       "2        False  ...          0          0          0                     0   \n",
       "3        False  ...          0          0          0                     0   \n",
       "4        False  ...          0          0          0  Microsoft SQL Server   \n",
       "5        False  ...          0          0          0                     0   \n",
       "...        ...  ...        ...        ...        ...                   ...   \n",
       "3529     False  ...          0          0          0                     0   \n",
       "3530     False  ...          0          0          0                     0   \n",
       "3531     False  ...          0          0          0                     0   \n",
       "3533     False  ...          0          0          0                     0   \n",
       "3534     False  ...          0          0          0                     0   \n",
       "\n",
       "     Q34_Part_5 Q34_Part_6 Q34_Part_7 Q34_Part_8 Q34_Part_9 Q34_Part_10  \n",
       "1             0          0          0          0          0           0  \n",
       "2             0          0          0          0          0           0  \n",
       "3             0          0          0          0          0           0  \n",
       "4             0          0          0          0          0           0  \n",
       "5             0          0          0          0          0           0  \n",
       "...         ...        ...        ...        ...        ...         ...  \n",
       "3529          0          0          0          0          0           0  \n",
       "3530          0          0          0          0          0           0  \n",
       "3531          0          0          0          0          0           0  \n",
       "3533          0          0          0          0          0           0  \n",
       "3534          0          0          0          0          0           0  \n",
       "\n",
       "[3454 rows x 101 columns]"
      ]
     },
     "execution_count": 28,
     "metadata": {},
     "output_type": "execute_result"
    }
   ],
   "source": [
    "data"
   ]
  },
  {
   "cell_type": "code",
   "execution_count": 29,
   "metadata": {},
   "outputs": [
    {
     "data": {
      "text/plain": [
       "(3454, 101)"
      ]
     },
     "execution_count": 29,
     "metadata": {},
     "output_type": "execute_result"
    }
   ],
   "source": [
    "data.shape"
   ]
  },
  {
   "cell_type": "markdown",
   "metadata": {},
   "source": [
    "## Save as new csv file"
   ]
  },
  {
   "cell_type": "code",
   "execution_count": 33,
   "metadata": {},
   "outputs": [],
   "source": [
    "data.to_csv('dataset_clean.csv')"
   ]
  },
  {
   "cell_type": "code",
   "execution_count": 32,
   "metadata": {
    "scrolled": true
   },
   "outputs": [
    {
     "data": {
      "text/plain": [
       "'/Users/cheng-chunchao/Desktop/data-x'"
      ]
     },
     "execution_count": 32,
     "metadata": {},
     "output_type": "execute_result"
    }
   ],
   "source": [
    "%pwd"
   ]
  },
  {
   "attachments": {},
   "cell_type": "markdown",
   "metadata": {},
   "source": [
    "# Questions remained after cleaning\n",
    "### Q1\n",
    "### Q2\n",
    "### Q3\n",
    "### Q4\n",
    "### Q5\n",
    "### Q6\n",
    "### Q8\n",
    "### Q9_Part_1\n",
    "### Q9_Part_2\n",
    "### Q9_Part_3\n",
    "### Q9_Part_4\n",
    "### Q9_Part_5\n",
    "### Q9_Part_6\n",
    "### Q9_Part_7\n",
    "### Q10\n",
    "### Q11\n",
    "### Q13_Part_1\n",
    "### Q13_Part_2\n",
    "### Q13_Part_3\n",
    "### Q13_Part_4\n",
    "### Q13_Part_5\n",
    "### Q13_Part_6\n",
    "### Q13_Part_7\n",
    "### Q13_Part_8\n",
    "### Q13_Part_9\n",
    "### Q13_Part_10\n",
    "### Q14\n",
    "### Q15\n",
    "### Q16_Part_1\n",
    "### Q16_Part_2\n",
    "### Q16_Part_3\n",
    "### Q16_Part_4\n",
    "### Q16_Part_5\n",
    "### Q16_Part_6\n",
    "### Q16_Part_7\n",
    "### Q16_Part_8\n",
    "### Q16_Part_9\n",
    "### Q16_Part_10\n",
    "### Q18_Part_1\n",
    "### Q18_Part_2\n",
    "### Q18_Part_3\n",
    "### Q18_Part_4\n",
    "### Q18_Part_5\n",
    "### Q18_Part_6\n",
    "### Q18_Part_7\n",
    "### Q18_Part_8\n",
    "### Q18_Part_9\n",
    "### Q18_Part_10\n",
    "### Q20_Part_1\n",
    "### Q20_Part_2\n",
    "### Q20_Part_3\n",
    "### Q20_Part_4\n",
    "### Q20_Part_5\n",
    "### Q20_Part_6\n",
    "### Q20_Part_7\n",
    "### Q20_Part_8\n",
    "### Q20_Part_9\n",
    "### Q20_Part_10\n",
    "### Q23\n",
    "### Q24_Part_1\n",
    "### Q24_Part_2\n",
    "### Q24_Part_3\n",
    "### Q24_Part_4\n",
    "### Q24_Part_5\n",
    "### Q24_Part_6\n",
    "### Q24_Part_7\n",
    "### Q24_Part_8\n",
    "### Q24_Part_9\n",
    "### Q24_Part_10\n",
    "### Q26_Part_1\n",
    "### Q26_Part_2\n",
    "### Q26_Part_3\n",
    "### Q26_Part_4\n",
    "### Q26_Part_5\n",
    "### Q27_Part_1\n",
    "### Q27_Part_2\n",
    "### Q27_Part_3\n",
    "### Q27_Part_4\n",
    "### Q28_Part_1\n",
    "### Q28_Part_2\n",
    "### Q28_Part_3\n",
    "### Q28_Part_4\n",
    "### Q28_Part_5\n",
    "### Q28_Part_6\n",
    "### Q28_Part_7\n",
    "### Q28_Part_8\n",
    "### Q28_Part_9\n",
    "### Q28_Part_10\n",
    "### Q29_Part_1\n",
    "### Q29_Part_2\n",
    "### Q29_Part_3\n",
    "### Q34_Part_1\n",
    "### Q34_Part_2\n",
    "### Q34_Part_3\n",
    "### Q34_Part_4\n",
    "### Q34_Part_5\n",
    "### Q34_Part_6\n",
    "### Q34_Part_7\n",
    "### Q34_Part_8\n",
    "### Q34_Part_9\n",
    "### Q34_Part_10"
   ]
  }
 ],
 "metadata": {
  "kernelspec": {
   "display_name": "Python 3",
   "language": "python",
   "name": "python3"
  },
  "language_info": {
   "codemirror_mode": {
    "name": "ipython",
    "version": 3
   },
   "file_extension": ".py",
   "mimetype": "text/x-python",
   "name": "python",
   "nbconvert_exporter": "python",
   "pygments_lexer": "ipython3",
   "version": "3.7.6"
  }
 },
 "nbformat": 4,
 "nbformat_minor": 4
}
